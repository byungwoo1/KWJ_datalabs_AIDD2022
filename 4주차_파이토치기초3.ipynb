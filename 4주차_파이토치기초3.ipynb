{
  "cells": [
    {
      "cell_type": "markdown",
      "id": "46203b99",
      "metadata": {
        "id": "46203b99"
      },
      "source": [
        "# PyTorch에서 이미지를 사용한 로지스틱 회귀\n",
        "\n",
        "## 이 노트북에서 다룰 내용\n",
        "1. PyTorch에서 이미지 작업(MNIST 데이터 세트 사용)\n",
        "2. 데이터 세트를 훈련, 검증 및 테스트 세트로 분할\n",
        "3. `nn.Module` 클래스를 확장하여 사용자 정의 로직으로 PyTorch 모델 생성\n",
        "4. Softmax를 사용하여 모델 출력을 확률로 해석하고 예측된 레이블 선택\n",
        "5. 분류 문제에 대한 유용한 평가 지표(정확도) 및 손실 함수(교차 엔트로피) 선택\n",
        "6. 검증 세트를 사용하여 모델을 평가하는 훈련 루프 설정\n",
        "7. 무작위로 선택한 예제에서 수동으로 모델 테스트\n",
        "8. 처음부터 다시 학습하지 않도록 모델 체크포인트 저장 및 로드"
      ]
    },
    {
      "cell_type": "markdown",
      "id": "02656a05",
      "metadata": {
        "id": "02656a05"
      },
      "source": [
        "## 이미지 작업\n",
        "\n",
        "이 노트북에서는 PyTorch 및 선형 회귀에 대한 기존 지식을 사용하여 매우 다른 종류의 문제인 *이미지 분류*를 해결할 것이다.\n",
        "\n",
        "우리는 유명한 [*MNIST 손으로 쓴 숫자 데이터베이스*](http://yann.lecun.com/exdb/mnist/)를 훈련 데이터 세트로 사용할 것이다.\n",
        "\n",
        "손으로 쓴 숫자(0~9)의 28픽셀 x 28픽셀 그레이스케일 이미지와 각 이미지가 나타내는 숫자를 나타내는 레이블로 구성된다.\n",
        "\n",
        "다음은 데이터세트의 샘플 이미지다.\n",
        "\n",
        "![mnist-sample](https://i.imgur.com/CAYnuo1.jpg)"
      ]
    },
    {
      "cell_type": "markdown",
      "id": "3316e1a3",
      "metadata": {
        "id": "3316e1a3"
      },
      "source": [
        "먼저 `torch`와 `torchvision`을 설치하고 임포트 한다.\n",
        "\n",
        "`torchvision`에는 이미지 데이터 작업을 위한 몇 가지 유틸리티가 포함되어 있다.\n",
        "\n",
        "또한 MNIST와 같은 인기 있는 데이터 세트를 자동으로 다운로드하고 가져올 수 있는 도우미 클래스를 제공합니다."
      ]
    },
    {
      "cell_type": "code",
      "execution_count": null,
      "id": "869f141c",
      "metadata": {
        "id": "869f141c"
      },
      "outputs": [],
      "source": [
        "# Uncomment and run the appropriate command for your operating system, if required\n",
        "\n",
        "# Linux / Binder\n",
        "# !pip install numpy matplotlib torch==1.7.0+cpu torchvision==0.8.1+cpu torchaudio==0.7.0 -f https://download.pytorch.org/whl/torch_stable.html\n",
        "\n",
        "# Windows\n",
        "# !pip install numpy matplotlib torch==1.7.0+cpu torchvision==0.8.1+cpu torchaudio==0.7.0 -f https://download.pytorch.org/whl/torch_stable.html\n",
        "\n",
        "# MacOS\n",
        "# !pip install numpy matplotlib torch torchvision torchaudio"
      ]
    },
    {
      "cell_type": "code",
      "execution_count": null,
      "id": "117fd2b7",
      "metadata": {
        "id": "117fd2b7"
      },
      "outputs": [],
      "source": [
        "# Imports\n",
        "import torch\n",
        "import torchvision\n",
        "from torchvision.datasets import MNIST"
      ]
    },
    {
      "cell_type": "code",
      "execution_count": null,
      "id": "f8665b3e",
      "metadata": {
        "id": "f8665b3e",
        "outputId": "d17e4b5a-dde3-4bef-867b-3d1fbaf08e98",
        "colab": {
          "referenced_widgets": [
            "a972a8e51fc54759b43c77dc7834c9bb",
            "091ae97421e945f2aa223e859101820e",
            "6e7e7567f8ed4c8ab25b942f82b818bf",
            "3fa94796cf36480599f740c6bcaac1fa"
          ]
        }
      },
      "outputs": [
        {
          "name": "stdout",
          "output_type": "stream",
          "text": [
            "Downloading http://yann.lecun.com/exdb/mnist/train-images-idx3-ubyte.gz\n",
            "Downloading http://yann.lecun.com/exdb/mnist/train-images-idx3-ubyte.gz to data/MNIST/raw/train-images-idx3-ubyte.gz\n"
          ]
        },
        {
          "data": {
            "application/vnd.jupyter.widget-view+json": {
              "model_id": "a972a8e51fc54759b43c77dc7834c9bb",
              "version_major": 2,
              "version_minor": 0
            },
            "text/plain": [
              "  0%|          | 0/9912422 [00:00<?, ?it/s]"
            ]
          },
          "metadata": {},
          "output_type": "display_data"
        },
        {
          "name": "stdout",
          "output_type": "stream",
          "text": [
            "Extracting data/MNIST/raw/train-images-idx3-ubyte.gz to data/MNIST/raw\n",
            "\n",
            "Downloading http://yann.lecun.com/exdb/mnist/train-labels-idx1-ubyte.gz\n",
            "Downloading http://yann.lecun.com/exdb/mnist/train-labels-idx1-ubyte.gz to data/MNIST/raw/train-labels-idx1-ubyte.gz\n"
          ]
        },
        {
          "data": {
            "application/vnd.jupyter.widget-view+json": {
              "model_id": "091ae97421e945f2aa223e859101820e",
              "version_major": 2,
              "version_minor": 0
            },
            "text/plain": [
              "  0%|          | 0/28881 [00:00<?, ?it/s]"
            ]
          },
          "metadata": {},
          "output_type": "display_data"
        },
        {
          "name": "stdout",
          "output_type": "stream",
          "text": [
            "Extracting data/MNIST/raw/train-labels-idx1-ubyte.gz to data/MNIST/raw\n",
            "\n",
            "Downloading http://yann.lecun.com/exdb/mnist/t10k-images-idx3-ubyte.gz\n",
            "Downloading http://yann.lecun.com/exdb/mnist/t10k-images-idx3-ubyte.gz to data/MNIST/raw/t10k-images-idx3-ubyte.gz\n"
          ]
        },
        {
          "data": {
            "application/vnd.jupyter.widget-view+json": {
              "model_id": "6e7e7567f8ed4c8ab25b942f82b818bf",
              "version_major": 2,
              "version_minor": 0
            },
            "text/plain": [
              "  0%|          | 0/1648877 [00:00<?, ?it/s]"
            ]
          },
          "metadata": {},
          "output_type": "display_data"
        },
        {
          "name": "stdout",
          "output_type": "stream",
          "text": [
            "Extracting data/MNIST/raw/t10k-images-idx3-ubyte.gz to data/MNIST/raw\n",
            "\n",
            "Downloading http://yann.lecun.com/exdb/mnist/t10k-labels-idx1-ubyte.gz\n",
            "Downloading http://yann.lecun.com/exdb/mnist/t10k-labels-idx1-ubyte.gz to data/MNIST/raw/t10k-labels-idx1-ubyte.gz\n"
          ]
        },
        {
          "data": {
            "application/vnd.jupyter.widget-view+json": {
              "model_id": "3fa94796cf36480599f740c6bcaac1fa",
              "version_major": 2,
              "version_minor": 0
            },
            "text/plain": [
              "  0%|          | 0/4542 [00:00<?, ?it/s]"
            ]
          },
          "metadata": {},
          "output_type": "display_data"
        },
        {
          "name": "stdout",
          "output_type": "stream",
          "text": [
            "Extracting data/MNIST/raw/t10k-labels-idx1-ubyte.gz to data/MNIST/raw\n",
            "\n"
          ]
        },
        {
          "name": "stderr",
          "output_type": "stream",
          "text": [
            "/home/dilab/anaconda3/lib/python3.8/site-packages/torchvision/datasets/mnist.py:498: UserWarning: The given NumPy array is not writeable, and PyTorch does not support non-writeable tensors. This means you can write to the underlying (supposedly non-writeable) NumPy array using the tensor. You may want to copy the array to protect its data or make it writeable before converting it to a tensor. This type of warning will be suppressed for the rest of this program. (Triggered internally at  /opt/conda/conda-bld/pytorch_1631630788697/work/torch/csrc/utils/tensor_numpy.cpp:180.)\n",
            "  return torch.from_numpy(parsed.astype(m[2], copy=False)).view(*s)\n"
          ]
        }
      ],
      "source": [
        "# Download training dataset\n",
        "dataset = MNIST(root='data/', download=True)"
      ]
    },
    {
      "cell_type": "markdown",
      "id": "cdde07c6",
      "metadata": {
        "id": "cdde07c6"
      },
      "source": [
        "이 명령문이 처음 실행되면 노트북 옆의 `data/` 디렉토리에 데이터를 다운로드하고 PyTorch `Dataset`을 생성한다.\n",
        "\n",
        "데이터 세트의 크기를 확인해보자."
      ]
    },
    {
      "cell_type": "code",
      "execution_count": null,
      "id": "04d404a0",
      "metadata": {
        "id": "04d404a0",
        "outputId": "5d8fead1-22a6-41e7-b023-961eb85f88e5"
      },
      "outputs": [
        {
          "data": {
            "text/plain": [
              "60000"
            ]
          },
          "execution_count": 4,
          "metadata": {},
          "output_type": "execute_result"
        }
      ],
      "source": [
        "len(dataset)"
      ]
    },
    {
      "cell_type": "markdown",
      "id": "c9702b52",
      "metadata": {
        "id": "c9702b52"
      },
      "source": [
        "데이터 세트에는 모델을 훈련하는 데 사용할 60,000개의 이미지가 있다.\n",
        "\n",
        "또한 모델을 평가하는데 사용되는 10,000개 이미지의 추가 테스트 세트가 있다.\n",
        "\n",
        "`train=False`를 생성자에 전달하여 `MNIST` 클래스를 사용하여 테스트 데이터 세트를 만들 수 있다."
      ]
    },
    {
      "cell_type": "code",
      "execution_count": null,
      "id": "0a105d5a",
      "metadata": {
        "id": "0a105d5a",
        "outputId": "ff487bd1-1a26-47ab-b487-3a4a869bd079"
      },
      "outputs": [
        {
          "data": {
            "text/plain": [
              "10000"
            ]
          },
          "execution_count": 5,
          "metadata": {},
          "output_type": "execute_result"
        }
      ],
      "source": [
        "test_dataset = MNIST(root='data/', train=False)\n",
        "len(test_dataset)"
      ]
    },
    {
      "cell_type": "markdown",
      "id": "b3cd49f8",
      "metadata": {
        "id": "b3cd49f8"
      },
      "source": [
        "훈련 데이터 세트의 샘플 요소를 살펴보자."
      ]
    },
    {
      "cell_type": "code",
      "execution_count": null,
      "id": "fa8a1cdf",
      "metadata": {
        "id": "fa8a1cdf",
        "outputId": "1c24e82d-7bbf-4c1f-8898-3b15d06ee2eb"
      },
      "outputs": [
        {
          "data": {
            "text/plain": [
              "(<PIL.Image.Image image mode=L size=28x28 at 0x7F7B80BA4AC0>, 5)"
            ]
          },
          "execution_count": 6,
          "metadata": {},
          "output_type": "execute_result"
        }
      ],
      "source": [
        "dataset[0]"
      ]
    },
    {
      "cell_type": "markdown",
      "id": "11687369",
      "metadata": {
        "id": "11687369"
      },
      "source": [
        "28x28px(픽셀)의 이미지와 레이블로 구성된 쌍이다.\n",
        "\n",
        "이미지는 파이썬 이미징 라이브러리 [Pillow](https://pillow.readthedocs.io/en/stable/)의 일부인 `PIL.Image.Image` 클래스의 객체다.\n",
        "\n",
        "Python의 데이터 과학을 위한 사실상의 플로팅 및 그래프 라이브러리인 [`matplotlib`](https://matplotlib.org/)를 사용하여 Jupyter 내에서 이미지를 볼 수 있다."
      ]
    },
    {
      "cell_type": "code",
      "execution_count": null,
      "id": "9dab95a2",
      "metadata": {
        "id": "9dab95a2"
      },
      "outputs": [],
      "source": [
        "import matplotlib.pyplot as plt\n",
        "%matplotlib inline"
      ]
    },
    {
      "cell_type": "markdown",
      "id": "1da40cb9",
      "metadata": {
        "id": "1da40cb9"
      },
      "source": [
        "`%matplotlib inline` 문은 Jupyter에 노트북 내에서 그래프를 플롯하기를 원한다는 것을 나타낸다.\n",
        "\n",
        "이 줄이 없으면 Jupyter는 이미지를 팝업으로 표시한다.\n",
        "\n",
        "`%`로 시작하는 명령문을 매직 명령이라고 하며 Jupyter 자체의 동작을 구성하는 데 사용다. 여기에서 매직 명령의 전체 리스트를 찾을 수 있다.\n",
        "\n",
        "https://ipython.readthedocs.io/en/stable/interactive/magics.html .\n",
        "\n",
        "데이터 세트에서 몇 가지 이미지를 살펴보겠다."
      ]
    },
    {
      "cell_type": "code",
      "execution_count": null,
      "id": "ca299daf",
      "metadata": {
        "id": "ca299daf",
        "outputId": "bcb3e9ce-e615-436e-b0af-f506631abc8d"
      },
      "outputs": [
        {
          "name": "stdout",
          "output_type": "stream",
          "text": [
            "Label: 5\n"
          ]
        },
        {
          "data": {
            "image/png": "[encoded data removed]",
            "text/plain": [
              "<Figure size 432x288 with 1 Axes>"
            ]
          },
          "metadata": {
            "needs_background": "light"
          },
          "output_type": "display_data"
        }
      ],
      "source": [
        "image, label = dataset[0]\n",
        "plt.imshow(image, cmap='gray')\n",
        "print('Label:', label)"
      ]
    },
    {
      "cell_type": "code",
      "execution_count": null,
      "id": "453da845",
      "metadata": {
        "id": "453da845",
        "outputId": "cb349a73-a94c-4664-aef8-a53f591e4947"
      },
      "outputs": [
        {
          "name": "stdout",
          "output_type": "stream",
          "text": [
            "Label: 3\n"
          ]
        },
        {
          "data": {
            "image/png": "[encoded data removed]",
            "text/plain": [
              "<Figure size 432x288 with 1 Axes>"
            ]
          },
          "metadata": {
            "needs_background": "light"
          },
          "output_type": "display_data"
        }
      ],
      "source": [
        "image, label = dataset[10]\n",
        "plt.imshow(image, cmap='gray')\n",
        "print('Label:', label)"
      ]
    },
    {
      "cell_type": "markdown",
      "id": "71420ee5",
      "metadata": {
        "id": "71420ee5"
      },
      "source": [
        "이러한 이미지는 크기가 상대적으로 작으며 숫자를 인식하는 것은 사람의 눈으로도 때때로 어려울 수 있다.\n",
        "\n",
        "이러한 이미지를 보는 것이 유용하지만 여기에는 한 가지 문제가 있다. PyTorch는 이미지를 처리하는 라이브러리가 따로 존재하지 않는다.\n",
        "\n",
        "그렇기에 우리는 이미지를 텐서로 변환하고, 데이터 세트를 생성하는 동안 특정한 변환 작업을 지정해 이미지 데이터를 처리할 수 있다."
      ]
    },
    {
      "cell_type": "code",
      "execution_count": null,
      "id": "a5abe1f0",
      "metadata": {
        "id": "a5abe1f0"
      },
      "outputs": [],
      "source": [
        "import torchvision.transforms as transforms"
      ]
    },
    {
      "cell_type": "markdown",
      "id": "9f4cd518",
      "metadata": {
        "id": "9f4cd518"
      },
      "source": [
        "PyTorch 데이터 세트를 사용하면 이미지가 로드될 때 이미지에 적용되는 하나 이상의 변환 기능을 지정할 수 있다.\n",
        "\n",
        "`torchvision.transforms` 모듈에는 이러한 사전정의 기능이 많이 포함되어 있다.\n",
        "\n",
        "`ToTensor` 변환을 사용하여 이미지를 PyTorch 텐서로 변환한다."
      ]
    },
    {
      "cell_type": "code",
      "execution_count": null,
      "id": "9b91661c",
      "metadata": {
        "id": "9b91661c"
      },
      "outputs": [],
      "source": [
        "# MNIST dataset (images and labels)\n",
        "dataset = MNIST(root='data/', \n",
        "                train=True,\n",
        "                transform=transforms.ToTensor())"
      ]
    },
    {
      "cell_type": "code",
      "execution_count": null,
      "id": "0500172b",
      "metadata": {
        "id": "0500172b",
        "outputId": "eea5d1af-ec30-4a79-f2ef-4872f117c9a7"
      },
      "outputs": [
        {
          "name": "stdout",
          "output_type": "stream",
          "text": [
            "torch.Size([1, 28, 28]) 5\n"
          ]
        }
      ],
      "source": [
        "img_tensor, label = dataset[0]\n",
        "print(img_tensor.shape, label)"
      ]
    },
    {
      "cell_type": "markdown",
      "id": "95c94e69",
      "metadata": {
        "id": "95c94e69"
      },
      "source": [
        "이제 이미지가 1x28x28 텐서로 변환된다. 첫 번째 차원은 색상 채널을 추적한다.\n",
        "\n",
        "두 번째 및 세 번째 차원은 각각 이미지의 높이와 너비에 따른 픽셀을 나타낸다.\n",
        "\n",
        "MNIST 데이터 세트의 이미지는 회색조이므로 채널이 하나만 있다.\n",
        "\n",
        "다른 데이터 세트에는 색상이 있는 이미지가 있으며 이 경우 빨간색, 녹색 및 파란색(RGB)의 세 가지 채널이 있다.\n",
        "\n",
        "텐서 내부의 몇 가지 샘플 값을 살펴보자."
      ]
    },
    {
      "cell_type": "code",
      "execution_count": null,
      "id": "9b92732f",
      "metadata": {
        "id": "9b92732f",
        "outputId": "22a4e32f-4812-4119-8568-ad2ebd66aa31"
      },
      "outputs": [
        {
          "name": "stdout",
          "output_type": "stream",
          "text": [
            "tensor([[0.0039, 0.6039, 0.9922, 0.3529, 0.0000],\n",
            "        [0.0000, 0.5451, 0.9922, 0.7451, 0.0078],\n",
            "        [0.0000, 0.0431, 0.7451, 0.9922, 0.2745],\n",
            "        [0.0000, 0.0000, 0.1373, 0.9451, 0.8824],\n",
            "        [0.0000, 0.0000, 0.0000, 0.3176, 0.9412]])\n",
            "tensor(1.) tensor(0.)\n"
          ]
        }
      ],
      "source": [
        "print(img_tensor[0,10:15,10:15])\n",
        "print(torch.max(img_tensor), torch.min(img_tensor))"
      ]
    },
    {
      "cell_type": "markdown",
      "id": "ab95dcf2",
      "metadata": {
        "id": "ab95dcf2"
      },
      "source": [
        "값의 범위는 0에서 1까지이며, `0`은 검정, `1`은 흰색, 서로 다른 회색 음영 사이의 값이다.\n",
        "\n",
        "`plt.imshow`를 사용하여 텐서를 이미지로 그릴 수도 있다."
      ]
    },
    {
      "cell_type": "code",
      "execution_count": null,
      "id": "f8534b5c",
      "metadata": {
        "id": "f8534b5c",
        "outputId": "0da54024-68a8-4db9-8b16-aca522433fdc"
      },
      "outputs": [
        {
          "data": {
            "image/png": "[encoded data removed]",
            "text/plain": [
              "<Figure size 432x288 with 1 Axes>"
            ]
          },
          "metadata": {
            "needs_background": "light"
          },
          "output_type": "display_data"
        }
      ],
      "source": [
        "# Plot the image by passing in the 28x28 matrix\n",
        "plt.imshow(img_tensor[0,10:15,10:15], cmap='gray');"
      ]
    },
    {
      "cell_type": "markdown",
      "id": "3edb098d",
      "metadata": {
        "id": "3edb098d"
      },
      "source": [
        "채널 차원 없이 28x28 행렬만 `plt.imshow`에 전달해야 한다.\n",
        "\n",
        "또한 그레이스케일(흑백) 이미지를 보고 싶다는 것을 나타내기 위해 컬러 맵(`cmap=gray`)으로 세팅해야 한다."
      ]
    },
    {
      "cell_type": "markdown",
      "id": "c5effa1f",
      "metadata": {
        "id": "c5effa1f"
      },
      "source": [
        "## 교육(Training) 및 검증(Validation) 데이터 세트\n",
        "\n",
        "기계 학습 모델을 구축하는 동안 데이터 세트를 세 부분으로 나누는 것이 일반적이다.\n",
        "\n",
        "1. **훈련 세트(Training set)** - 모델 훈련에 사용 즉, 손실을 계산하고 경사하강법을 사용하여 모델의 가중치를 조정\n",
        "\n",
        "2. **검증 세트(Validation set)** - 훈련 중 모델을 평가하고, 하이퍼파라미터(학습률 등)를 조정하고, 모델의 최상의 버전을 선택하는 데 사용\n",
        "\n",
        "3. **테스트 세트(Test set)** - 다양한 모델 또는 접근 방식을 비교하고 모델의 최종 정확도를 보고하는 데 사용\n",
        "\n",
        "MNIST 데이터셋에는 60,000개의 훈련 이미지와 10,000개의 테스트 이미지가 있다. 테스트 세트는 표준화되어 여러 연구자가 동일한 이미지 컬렉션에 대해 모델 결과를 보고할 수 있다.\n",
        "\n",
        "\n",
        "사전 정의된 검증 세트가 없기 때문에 60,000개의 이미지를 훈련 및 검증 데이터 세트로 수동으로 분할해야 한다. 유효성 검사를 위해 무작위로 선택한 10,000개의 이미지를 따로 보관해 보자. PyTorch의 `random_spilt` 메서드를 사용하여 이 작업을 수행할 수 있다."
      ]
    },
    {
      "cell_type": "code",
      "execution_count": null,
      "id": "52cc6110",
      "metadata": {
        "id": "52cc6110",
        "outputId": "ab37caee-0b17-4aad-ca8f-2f0f2ea8ba23"
      },
      "outputs": [
        {
          "data": {
            "text/plain": [
              "(50000, 10000)"
            ]
          },
          "execution_count": 15,
          "metadata": {},
          "output_type": "execute_result"
        }
      ],
      "source": [
        "from torch.utils.data import random_split\n",
        "\n",
        "train_ds, val_ds = random_split(dataset, [50000, 10000])\n",
        "len(train_ds), len(val_ds)"
      ]
    },
    {
      "cell_type": "markdown",
      "id": "278850b4",
      "metadata": {
        "id": "278850b4"
      },
      "source": [
        "검증 세트를 생성하기 위해 무작위 샘플을 선택하는 것은 필수다. 훈련 데이터는 종종 대상 레이블, 즉 0, 1, 2 등의 이미지로 정렬된다. 이미지의 마지막 20%를 사용하여 유효성 검사 세트를 생성하면 8과 9로만 구성된다. 반면, 훈련 세트에는 8 또는 9가 포함되지 않습니다.\n",
        "\n",
        "이러한 훈련 검증은 유용한 모델을 훈련하는 것을 불가능하게 만든다. 이제 데이터를 일괄적으로 로드하는 데 도움이 되는 데이터 로더를 만들 수 있다. 배치 크기 128을 사용한다."
      ]
    },
    {
      "cell_type": "code",
      "execution_count": null,
      "id": "758a7158",
      "metadata": {
        "id": "758a7158"
      },
      "outputs": [],
      "source": [
        "from torch.utils.data import DataLoader\n",
        "\n",
        "batch_size = 128\n",
        "\n",
        "train_loader = DataLoader(train_ds, batch_size, shuffle=True)\n",
        "val_loader = DataLoader(val_ds, batch_size)"
      ]
    },
    {
      "cell_type": "markdown",
      "id": "c7acee7a",
      "metadata": {
        "id": "c7acee7a"
      },
      "source": [
        "각 epoch에서 생성된 배치가 서로 다른지 확인하기 위해 훈련 데이터 로더에 `shuffle=True`를 설정했다.\n",
        "\n",
        "이 무작위화는 훈련 과정을 일반화하고 속도를 높이는 데 도움이 된다.\n",
        "\n",
        "반면 검증 데이터 로더는 모델 평가에만 사용되기 때문에 이미지를 섞을 필요가 없다."
      ]
    },
    {
      "cell_type": "markdown",
      "id": "d3863e01",
      "metadata": {
        "id": "d3863e01"
      },
      "source": [
        "## 모델\n",
        "\n",
        "이제 데이터 로더를 준비했으므로 모델을 정의할 수 있다.\n",
        "\n",
        "* **로지스틱 회귀** 모델은 선형 회귀 모델과 거의 동일하다. 여기에는 가중치와 편향 행렬이 포함되어 있으며 간단한 행렬 연산(`pred = x @ w.t() + b`)을 사용하여 출력을 얻는다.\n",
        "\n",
        "* 선형 회귀에서 했던 것처럼 행렬을 수동으로 생성하고 초기화하는 대신 `nn.Linear`를 사용하여 모델을 생성할 수 있다.\n",
        "\n",
        "* `nn.Linear`는 각 학습 예제가 벡터가 될 것으로 예상하므로 각 `1x28x28` 이미지 텐서는 모델에 전달되기 전에 크기 784 `(28*28)`의 벡터로 _평탄화(펼쳐)_된다.\n",
        "\n",
        "* 각 이미지의 출력은 크기가 10인 벡터이며 각 요소는 특정 대상 레이블(즉, 0에서 9)의 확률을 나타낸다. 이미지에 대해 예측된 레이블은 단순히 확률이 가장 높은 레이블이다."
      ]
    },
    {
      "cell_type": "code",
      "execution_count": null,
      "id": "2c05fb16",
      "metadata": {
        "id": "2c05fb16"
      },
      "outputs": [],
      "source": [
        "import torch.nn as nn\n",
        "\n",
        "input_size = 28*28\n",
        "num_classes = 10\n",
        "\n",
        "# Logistic regression model\n",
        "model = nn.Linear(input_size, num_classes)"
      ]
    },
    {
      "cell_type": "markdown",
      "id": "8d734af6",
      "metadata": {
        "id": "8d734af6"
      },
      "source": [
        "물론 이 모델은 매개변수의 수 면에서 이전 모델보다 훨씬 크다.\n",
        "\n",
        "가중치와 편향에 대해 살펴보자."
      ]
    },
    {
      "cell_type": "code",
      "execution_count": null,
      "id": "62c5687b",
      "metadata": {
        "id": "62c5687b",
        "outputId": "3d83c4bc-7459-4d41-e269-b66362f78d50"
      },
      "outputs": [
        {
          "name": "stdout",
          "output_type": "stream",
          "text": [
            "torch.Size([10, 784])\n"
          ]
        },
        {
          "data": {
            "text/plain": [
              "Parameter containing:\n",
              "tensor([[-0.0266, -0.0026, -0.0019,  ...,  0.0302,  0.0276, -0.0094],\n",
              "        [ 0.0062, -0.0029, -0.0237,  ...,  0.0011,  0.0062, -0.0046],\n",
              "        [ 0.0033,  0.0239, -0.0286,  ..., -0.0235, -0.0094, -0.0135],\n",
              "        ...,\n",
              "        [-0.0302, -0.0083,  0.0355,  ..., -0.0147,  0.0258, -0.0147],\n",
              "        [-0.0194,  0.0175, -0.0292,  ...,  0.0109, -0.0126,  0.0329],\n",
              "        [ 0.0252, -0.0354,  0.0275,  ..., -0.0344, -0.0097,  0.0229]],\n",
              "       requires_grad=True)"
            ]
          },
          "execution_count": 18,
          "metadata": {},
          "output_type": "execute_result"
        }
      ],
      "source": [
        "print(model.weight.shape)\n",
        "model.weight"
      ]
    },
    {
      "cell_type": "code",
      "execution_count": null,
      "id": "60961e67",
      "metadata": {
        "id": "60961e67",
        "outputId": "26bdce3f-1f12-4758-f3b5-a59048e639ff"
      },
      "outputs": [
        {
          "name": "stdout",
          "output_type": "stream",
          "text": [
            "torch.Size([10])\n"
          ]
        },
        {
          "data": {
            "text/plain": [
              "Parameter containing:\n",
              "tensor([-0.0311, -0.0306, -0.0240,  0.0032,  0.0047,  0.0091,  0.0204,  0.0016,\n",
              "        -0.0283, -0.0335], requires_grad=True)"
            ]
          },
          "execution_count": 19,
          "metadata": {},
          "output_type": "execute_result"
        }
      ],
      "source": [
        "print(model.bias.shape)\n",
        "model.bias"
      ]
    },
    {
      "cell_type": "markdown",
      "id": "5fac0221",
      "metadata": {
        "id": "5fac0221"
      },
      "source": [
        "여기에는 총 7850개의 매개변수가 있지만 개념적으로는 지금까지 변경된 것이 없다.\n",
        "\n",
        "모델을 사용하여 일부 출력을 생성해 보겠다.\n",
        "\n",
        "데이터 세트에서 100개의 이미지 중 첫 번째 배치를 가져와서 모델에 전달한다."
      ]
    },
    {
      "cell_type": "code",
      "execution_count": null,
      "id": "88fd8d83",
      "metadata": {
        "id": "88fd8d83",
        "outputId": "842494d7-2442-4260-bfc8-72886465966e"
      },
      "outputs": [
        {
          "name": "stdout",
          "output_type": "stream",
          "text": [
            "tensor([1, 2, 5, 3, 8, 4, 5, 3, 9, 1, 2, 2, 8, 7, 2, 6, 8, 4, 1, 7, 9, 2, 8, 9,\n",
            "        7, 4, 5, 9, 0, 1, 6, 3, 7, 3, 8, 7, 3, 2, 6, 4, 0, 5, 4, 1, 9, 5, 0, 6,\n",
            "        5, 6, 8, 2, 6, 8, 5, 1, 8, 5, 0, 4, 0, 5, 7, 4, 9, 4, 1, 4, 9, 9, 4, 5,\n",
            "        1, 1, 7, 1, 3, 2, 0, 5, 8, 5, 5, 0, 9, 5, 9, 1, 5, 4, 1, 1, 1, 3, 8, 0,\n",
            "        9, 3, 3, 4, 2, 2, 4, 5, 1, 7, 8, 8, 2, 8, 4, 8, 8, 3, 8, 3, 0, 2, 6, 6,\n",
            "        9, 9, 7, 4, 9, 7, 8, 8])\n",
            "torch.Size([128, 1, 28, 28])\n"
          ]
        },
        {
          "ename": "RuntimeError",
          "evalue": "mat1 and mat2 shapes cannot be multiplied (3584x28 and 784x10)",
          "output_type": "error",
          "traceback": [
            "\u001b[0;31m---------------------------------------------------------------------------\u001b[0m",
            "\u001b[0;31mRuntimeError\u001b[0m                              Traceback (most recent call last)",
            "\u001b[0;32m<ipython-input-20-d0fe7d306f83>\u001b[0m in \u001b[0;36m<module>\u001b[0;34m\u001b[0m\n\u001b[1;32m      2\u001b[0m     \u001b[0mprint\u001b[0m\u001b[0;34m(\u001b[0m\u001b[0mlabels\u001b[0m\u001b[0;34m)\u001b[0m\u001b[0;34m\u001b[0m\u001b[0;34m\u001b[0m\u001b[0m\n\u001b[1;32m      3\u001b[0m     \u001b[0mprint\u001b[0m\u001b[0;34m(\u001b[0m\u001b[0mimages\u001b[0m\u001b[0;34m.\u001b[0m\u001b[0mshape\u001b[0m\u001b[0;34m)\u001b[0m\u001b[0;34m\u001b[0m\u001b[0;34m\u001b[0m\u001b[0m\n\u001b[0;32m----> 4\u001b[0;31m     \u001b[0moutputs\u001b[0m \u001b[0;34m=\u001b[0m \u001b[0mmodel\u001b[0m\u001b[0;34m(\u001b[0m\u001b[0mimages\u001b[0m\u001b[0;34m)\u001b[0m\u001b[0;34m\u001b[0m\u001b[0;34m\u001b[0m\u001b[0m\n\u001b[0m\u001b[1;32m      5\u001b[0m     \u001b[0mprint\u001b[0m\u001b[0;34m(\u001b[0m\u001b[0moutputs\u001b[0m\u001b[0;34m)\u001b[0m\u001b[0;34m\u001b[0m\u001b[0;34m\u001b[0m\u001b[0m\n\u001b[1;32m      6\u001b[0m     \u001b[0;32mbreak\u001b[0m\u001b[0;34m\u001b[0m\u001b[0;34m\u001b[0m\u001b[0m\n",
            "\u001b[0;32m~/anaconda3/lib/python3.8/site-packages/torch/nn/modules/module.py\u001b[0m in \u001b[0;36m_call_impl\u001b[0;34m(self, *input, **kwargs)\u001b[0m\n\u001b[1;32m   1049\u001b[0m         if not (self._backward_hooks or self._forward_hooks or self._forward_pre_hooks or _global_backward_hooks\n\u001b[1;32m   1050\u001b[0m                 or _global_forward_hooks or _global_forward_pre_hooks):\n\u001b[0;32m-> 1051\u001b[0;31m             \u001b[0;32mreturn\u001b[0m \u001b[0mforward_call\u001b[0m\u001b[0;34m(\u001b[0m\u001b[0;34m*\u001b[0m\u001b[0minput\u001b[0m\u001b[0;34m,\u001b[0m \u001b[0;34m**\u001b[0m\u001b[0mkwargs\u001b[0m\u001b[0;34m)\u001b[0m\u001b[0;34m\u001b[0m\u001b[0;34m\u001b[0m\u001b[0m\n\u001b[0m\u001b[1;32m   1052\u001b[0m         \u001b[0;31m# Do not call functions when jit is used\u001b[0m\u001b[0;34m\u001b[0m\u001b[0;34m\u001b[0m\u001b[0;34m\u001b[0m\u001b[0m\n\u001b[1;32m   1053\u001b[0m         \u001b[0mfull_backward_hooks\u001b[0m\u001b[0;34m,\u001b[0m \u001b[0mnon_full_backward_hooks\u001b[0m \u001b[0;34m=\u001b[0m \u001b[0;34m[\u001b[0m\u001b[0;34m]\u001b[0m\u001b[0;34m,\u001b[0m \u001b[0;34m[\u001b[0m\u001b[0;34m]\u001b[0m\u001b[0;34m\u001b[0m\u001b[0;34m\u001b[0m\u001b[0m\n",
            "\u001b[0;32m~/anaconda3/lib/python3.8/site-packages/torch/nn/modules/linear.py\u001b[0m in \u001b[0;36mforward\u001b[0;34m(self, input)\u001b[0m\n\u001b[1;32m     94\u001b[0m \u001b[0;34m\u001b[0m\u001b[0m\n\u001b[1;32m     95\u001b[0m     \u001b[0;32mdef\u001b[0m \u001b[0mforward\u001b[0m\u001b[0;34m(\u001b[0m\u001b[0mself\u001b[0m\u001b[0;34m,\u001b[0m \u001b[0minput\u001b[0m\u001b[0;34m:\u001b[0m \u001b[0mTensor\u001b[0m\u001b[0;34m)\u001b[0m \u001b[0;34m->\u001b[0m \u001b[0mTensor\u001b[0m\u001b[0;34m:\u001b[0m\u001b[0;34m\u001b[0m\u001b[0;34m\u001b[0m\u001b[0m\n\u001b[0;32m---> 96\u001b[0;31m         \u001b[0;32mreturn\u001b[0m \u001b[0mF\u001b[0m\u001b[0;34m.\u001b[0m\u001b[0mlinear\u001b[0m\u001b[0;34m(\u001b[0m\u001b[0minput\u001b[0m\u001b[0;34m,\u001b[0m \u001b[0mself\u001b[0m\u001b[0;34m.\u001b[0m\u001b[0mweight\u001b[0m\u001b[0;34m,\u001b[0m \u001b[0mself\u001b[0m\u001b[0;34m.\u001b[0m\u001b[0mbias\u001b[0m\u001b[0;34m)\u001b[0m\u001b[0;34m\u001b[0m\u001b[0;34m\u001b[0m\u001b[0m\n\u001b[0m\u001b[1;32m     97\u001b[0m \u001b[0;34m\u001b[0m\u001b[0m\n\u001b[1;32m     98\u001b[0m     \u001b[0;32mdef\u001b[0m \u001b[0mextra_repr\u001b[0m\u001b[0;34m(\u001b[0m\u001b[0mself\u001b[0m\u001b[0;34m)\u001b[0m \u001b[0;34m->\u001b[0m \u001b[0mstr\u001b[0m\u001b[0;34m:\u001b[0m\u001b[0;34m\u001b[0m\u001b[0;34m\u001b[0m\u001b[0m\n",
            "\u001b[0;32m~/anaconda3/lib/python3.8/site-packages/torch/nn/functional.py\u001b[0m in \u001b[0;36mlinear\u001b[0;34m(input, weight, bias)\u001b[0m\n\u001b[1;32m   1845\u001b[0m     \u001b[0;32mif\u001b[0m \u001b[0mhas_torch_function_variadic\u001b[0m\u001b[0;34m(\u001b[0m\u001b[0minput\u001b[0m\u001b[0;34m,\u001b[0m \u001b[0mweight\u001b[0m\u001b[0;34m)\u001b[0m\u001b[0;34m:\u001b[0m\u001b[0;34m\u001b[0m\u001b[0;34m\u001b[0m\u001b[0m\n\u001b[1;32m   1846\u001b[0m         \u001b[0;32mreturn\u001b[0m \u001b[0mhandle_torch_function\u001b[0m\u001b[0;34m(\u001b[0m\u001b[0mlinear\u001b[0m\u001b[0;34m,\u001b[0m \u001b[0;34m(\u001b[0m\u001b[0minput\u001b[0m\u001b[0;34m,\u001b[0m \u001b[0mweight\u001b[0m\u001b[0;34m)\u001b[0m\u001b[0;34m,\u001b[0m \u001b[0minput\u001b[0m\u001b[0;34m,\u001b[0m \u001b[0mweight\u001b[0m\u001b[0;34m,\u001b[0m \u001b[0mbias\u001b[0m\u001b[0;34m=\u001b[0m\u001b[0mbias\u001b[0m\u001b[0;34m)\u001b[0m\u001b[0;34m\u001b[0m\u001b[0;34m\u001b[0m\u001b[0m\n\u001b[0;32m-> 1847\u001b[0;31m     \u001b[0;32mreturn\u001b[0m \u001b[0mtorch\u001b[0m\u001b[0;34m.\u001b[0m\u001b[0m_C\u001b[0m\u001b[0;34m.\u001b[0m\u001b[0m_nn\u001b[0m\u001b[0;34m.\u001b[0m\u001b[0mlinear\u001b[0m\u001b[0;34m(\u001b[0m\u001b[0minput\u001b[0m\u001b[0;34m,\u001b[0m \u001b[0mweight\u001b[0m\u001b[0;34m,\u001b[0m \u001b[0mbias\u001b[0m\u001b[0;34m)\u001b[0m\u001b[0;34m\u001b[0m\u001b[0;34m\u001b[0m\u001b[0m\n\u001b[0m\u001b[1;32m   1848\u001b[0m \u001b[0;34m\u001b[0m\u001b[0m\n\u001b[1;32m   1849\u001b[0m \u001b[0;34m\u001b[0m\u001b[0m\n",
            "\u001b[0;31mRuntimeError\u001b[0m: mat1 and mat2 shapes cannot be multiplied (3584x28 and 784x10)"
          ]
        }
      ],
      "source": [
        "for images, labels in train_loader:\n",
        "    print(labels)\n",
        "    print(images.shape)\n",
        "    outputs = model(images)\n",
        "    print(outputs)\n",
        "    break"
      ]
    },
    {
      "cell_type": "code",
      "execution_count": null,
      "id": "306be2d2",
      "metadata": {
        "id": "306be2d2",
        "outputId": "36d155ed-c5bc-4fd4-e5cc-dc9217100e49"
      },
      "outputs": [
        {
          "data": {
            "text/plain": [
              "torch.Size([128, 1, 28, 28])"
            ]
          },
          "execution_count": 21,
          "metadata": {},
          "output_type": "execute_result"
        }
      ],
      "source": [
        "images.shape"
      ]
    },
    {
      "cell_type": "code",
      "execution_count": null,
      "id": "7360dfa9",
      "metadata": {
        "id": "7360dfa9",
        "outputId": "cd378cca-a124-4200-cc8e-a13e6df9eba8"
      },
      "outputs": [
        {
          "data": {
            "text/plain": [
              "torch.Size([128, 784])"
            ]
          },
          "execution_count": 22,
          "metadata": {},
          "output_type": "execute_result"
        }
      ],
      "source": [
        "images.reshape(128, 784).shape"
      ]
    },
    {
      "cell_type": "markdown",
      "id": "09d66394",
      "metadata": {
        "id": "09d66394"
      },
      "source": [
        "위의 코드는 입력 데이터의 모양이 맞지 않기 때문에 오류가 발생한다.\n",
        "\n",
        "우리의 이미지는 1x28x28 모양이지만 크기가 784인 벡터가 필요하다. 즉, 평면화해야한다.\n",
        "\n",
        "텐서의 `.reshape`메서드를 사용하면 기본 데이터의 복사본을 실제로 생성하지 않고도 각 이미지를 평면 벡터로 효율적으로 `볼` 수 있다.\n",
        "\n",
        "이 추가 기능을 모델에 포함하려면 PyTorch에서 `nn.Module` 클래스를 확장하여 사용자 정의 모델을 정의해야 한다.\n",
        "\n",
        "\n",
        "Python의 클래스는 객체 생성을 위한 `\"청사진\"`을 제공한다. Python에서 새 클래스를 정의하는 예를 살펴보겠다."
      ]
    },
    {
      "cell_type": "code",
      "execution_count": null,
      "id": "296ad41d",
      "metadata": {
        "id": "296ad41d"
      },
      "outputs": [],
      "source": [
        "class Person:\n",
        "    # Class constructor\n",
        "    def __init__(self, name, age):\n",
        "        # Object properties\n",
        "        self.name = name\n",
        "        self.age = age\n",
        "    \n",
        "    # Method\n",
        "    def say_hello(self):\n",
        "        print(\"Hello my name is \" + self.name + \"!\")"
      ]
    },
    {
      "cell_type": "markdown",
      "id": "e459b834",
      "metadata": {
        "id": "e459b834"
      },
      "source": [
        "다음은 `Person` 클래스의 객체를 생성하거나 _인스턴스화_하는 방법이다."
      ]
    },
    {
      "cell_type": "code",
      "execution_count": null,
      "id": "72d8a476",
      "metadata": {
        "id": "72d8a476"
      },
      "outputs": [],
      "source": [
        "bob = Person(\"Bob\", 32)"
      ]
    },
    {
      "cell_type": "markdown",
      "id": "00181d9c",
      "metadata": {
        "id": "00181d9c"
      },
      "source": [
        "`bob` 객체는 `Person` 클래스의 인스턴스이다.\n",
        "\n",
        "객체의 속성(속성이라고도 함)에 액세스하거나 `.` 표기법을 사용하여 해당 메서드를 호출할 수 있다."
      ]
    },
    {
      "cell_type": "code",
      "execution_count": null,
      "id": "d0b4906c",
      "metadata": {
        "id": "d0b4906c",
        "outputId": "46be9d14-d04e-4fda-a7e0-b789dccc935a"
      },
      "outputs": [
        {
          "data": {
            "text/plain": [
              "('Bob', 32)"
            ]
          },
          "execution_count": 25,
          "metadata": {},
          "output_type": "execute_result"
        }
      ],
      "source": [
        "bob.name, bob.age"
      ]
    },
    {
      "cell_type": "code",
      "execution_count": null,
      "id": "7c271a83",
      "metadata": {
        "id": "7c271a83",
        "outputId": "0432a579-6a65-43fd-e1a5-0a699f16fd0f"
      },
      "outputs": [
        {
          "name": "stdout",
          "output_type": "stream",
          "text": [
            "Hello my name is Bob!\n"
          ]
        }
      ],
      "source": [
        "bob.say_hello()"
      ]
    },
    {
      "cell_type": "markdown",
      "id": "fcc12b95",
      "metadata": {
        "id": "fcc12b95"
      },
      "source": [
        "https://www.w3schools.com/python/python_classes.asp에서 Python 클래스에 대해 자세히 알아볼 수 있다.\n",
        "\n",
        "또한 클래스는 기존 클래스의 기능을 기반으로 하거나 _확장_할 수 있다. PyTorch에서 `nn.Module` 클래스를 확장하여 사용자 정의 모델을 정의해 보겠다."
      ]
    },
    {
      "cell_type": "code",
      "execution_count": null,
      "id": "b46073a9",
      "metadata": {
        "id": "b46073a9"
      },
      "outputs": [],
      "source": [
        "class MnistModel(nn.Module):\n",
        "    def __init__(self):\n",
        "        super().__init__()\n",
        "        self.linear = nn.Linear(input_size, num_classes)\n",
        "        \n",
        "    def forward(self, xb):\n",
        "        xb = xb.reshape(-1, 784)\n",
        "        out = self.linear(xb)\n",
        "        return out\n",
        "    \n",
        "model = MnistModel()"
      ]
    },
    {
      "cell_type": "markdown",
      "id": "53b794f2",
      "metadata": {
        "id": "53b794f2"
      },
      "source": [
        "`__init__` 생성자 메서드 내에서 `nn.Linear`를 사용하여 가중치와 편향을 인스턴스화합니다.\n",
        "\n",
        "그리고 입력 일괄 처리를 모델에 전달할 때 호출되는 `forward`메서드 내부에서 입력 텐서를 평평하게 만들고 이를 `self.linear`에 전달한다.\n",
        "\n",
        "`xb.reshape(-1, 28*28)`은 2차원의 `xb` 텐서의 *보기*를 원한다는 것을 PyTorch에 나타낸다.\n",
        "\n",
        "2차원의 길이는 28\\*28(즉, 784)이다.\n",
        "\n",
        "`.reshape`에 대한 한 인수를 `-1`(이 경우 첫 번째 차원)로 설정하면 PyTorch가 원래 텐서의 모양을 기반으로 자동으로 알아낼 수 있다.\n",
        "\n",
        "모델에는 더 이상 `.weight` 및 `.bias` 속성이 없지만(이제 `.linear` 속성 안에 있으므로) 가중치와 편향을 포함하는 목록을 반환하는 `.parameters` 메서드가 있다."
      ]
    },
    {
      "cell_type": "code",
      "execution_count": null,
      "id": "d07b46bc",
      "metadata": {
        "id": "d07b46bc",
        "outputId": "33ba9776-64f6-418e-d052-784dcd81be8e"
      },
      "outputs": [
        {
          "data": {
            "text/plain": [
              "Linear(in_features=784, out_features=10, bias=True)"
            ]
          },
          "execution_count": 28,
          "metadata": {},
          "output_type": "execute_result"
        }
      ],
      "source": [
        "model.linear"
      ]
    },
    {
      "cell_type": "code",
      "execution_count": null,
      "id": "448f3cb6",
      "metadata": {
        "id": "448f3cb6",
        "outputId": "f0ccdd68-a61d-4d5b-b1ee-58aa2faabe89"
      },
      "outputs": [
        {
          "name": "stdout",
          "output_type": "stream",
          "text": [
            "torch.Size([10, 784]) torch.Size([10])\n"
          ]
        },
        {
          "data": {
            "text/plain": [
              "[Parameter containing:\n",
              " tensor([[-0.0229, -0.0177,  0.0315,  ...,  0.0339,  0.0163, -0.0160],\n",
              "         [-0.0059,  0.0097,  0.0205,  ..., -0.0029,  0.0007, -0.0280],\n",
              "         [ 0.0053,  0.0273,  0.0319,  ...,  0.0100, -0.0268,  0.0163],\n",
              "         ...,\n",
              "         [ 0.0261, -0.0101, -0.0135,  ..., -0.0090,  0.0053,  0.0092],\n",
              "         [-0.0304, -0.0119, -0.0262,  ...,  0.0343,  0.0258, -0.0093],\n",
              "         [ 0.0076, -0.0243,  0.0294,  ..., -0.0248, -0.0305,  0.0161]],\n",
              "        requires_grad=True),\n",
              " Parameter containing:\n",
              " tensor([-0.0247, -0.0292, -0.0042,  0.0335,  0.0072, -0.0030,  0.0185,  0.0234,\n",
              "          0.0070,  0.0052], requires_grad=True)]"
            ]
          },
          "execution_count": 29,
          "metadata": {},
          "output_type": "execute_result"
        }
      ],
      "source": [
        "print(model.linear.weight.shape, model.linear.bias.shape)\n",
        "list(model.parameters())"
      ]
    },
    {
      "cell_type": "markdown",
      "id": "1506c05d",
      "metadata": {
        "id": "1506c05d"
      },
      "source": [
        "우리는 이전과 같은 방식으로 새로운 커스텀 모델을 사용할 수 있다.\n",
        "\n",
        "작동하는지 보자."
      ]
    },
    {
      "cell_type": "code",
      "execution_count": null,
      "id": "258a1e66",
      "metadata": {
        "id": "258a1e66",
        "outputId": "93172434-b3f6-4992-e699-41f74e1f93b6"
      },
      "outputs": [
        {
          "name": "stdout",
          "output_type": "stream",
          "text": [
            "torch.Size([128, 1, 28, 28])\n",
            "outputs.shape :  torch.Size([128, 10])\n",
            "Sample outputs :\n",
            " tensor([[-0.2213,  0.1604, -0.2281,  0.0992, -0.0449, -0.2389, -0.0427,  0.4363,\n",
            "          0.1643, -0.3218],\n",
            "        [-0.0171,  0.0877, -0.3320,  0.1971,  0.1721, -0.1101,  0.0245,  0.2728,\n",
            "          0.0228, -0.1300]])\n"
          ]
        }
      ],
      "source": [
        "for images, labels in train_loader:\n",
        "    print(images.shape)\n",
        "    outputs = model(images)\n",
        "    break\n",
        "\n",
        "print('outputs.shape : ', outputs.shape)\n",
        "print('Sample outputs :\\n', outputs[:2].data)"
      ]
    },
    {
      "cell_type": "markdown",
      "id": "dd6e6246",
      "metadata": {
        "id": "dd6e6246"
      },
      "source": [
        "100개의 입력 이미지 각각에 대해 각 클래스에 대해 하나씩 10개의 출력을 얻는다.\n",
        "\n",
        "앞서 논의한 바와 같이, 우리는 이러한 출력이 확률을 나타내기를 원한다.\n",
        "\n",
        "각 출력 행의 요소는 0에서 1 사이에 있어야 하며 합이 1이 되어야한다.\n",
        "\n",
        "출력 행을 확률로 변환하기 위해 다음 공식을 갖는 softmax 함수를 사용한다.\n",
        "\n",
        "![소프트맥스](https://i.imgur.com/EAh9jLN.png)\n",
        "\n",
        "먼저 출력 행의 각 요소 `yi`를 `e^yi`로 교체하여 모든 요소를 양수로 만든다.\n",
        "\n",
        "![](https://www.montereyinstitute.org/courses/DevelopmentalMath/COURSE_TEXT2_RESOURCE/U18_L1_T1_text_final_6_files/image001.png)\n",
        "\n",
        "그런 다음 합이 1이 되도록 합으로 나눈다. 따라서 결과 벡터는 확률로 해석될 수 있다.\n",
        "\n",
        "softmax 함수를 구현하는 것은 쉽지만(시도해야 합니다!), 다차원 텐서(이 경우 출력 행 목록)와 잘 작동하기 때문에 PyTorch 내에서 제공되는 구현을 사용한다."
      ]
    },
    {
      "cell_type": "code",
      "execution_count": null,
      "id": "23f4b1cd",
      "metadata": {
        "id": "23f4b1cd"
      },
      "outputs": [],
      "source": [
        "import torch.nn.functional as F"
      ]
    },
    {
      "cell_type": "markdown",
      "id": "beb23884",
      "metadata": {
        "id": "beb23884"
      },
      "source": [
        "softmax 함수는 `torch.nn.functional` 패키지에 포함되어 있으며 함수를 적용해야 하는 차원을 지정해야 한다."
      ]
    },
    {
      "cell_type": "code",
      "execution_count": null,
      "id": "8c56b9d6",
      "metadata": {
        "id": "8c56b9d6",
        "outputId": "f5ed2d37-63e4-4829-fc68-43415dfc10f0"
      },
      "outputs": [
        {
          "data": {
            "text/plain": [
              "tensor([[-0.2213,  0.1604, -0.2281,  0.0992, -0.0449, -0.2389, -0.0427,  0.4363,\n",
              "          0.1643, -0.3218],\n",
              "        [-0.0171,  0.0877, -0.3320,  0.1971,  0.1721, -0.1101,  0.0245,  0.2728,\n",
              "          0.0228, -0.1300]], grad_fn=<SliceBackward>)"
            ]
          },
          "execution_count": 32,
          "metadata": {},
          "output_type": "execute_result"
        }
      ],
      "source": [
        "outputs[:2]"
      ]
    },
    {
      "cell_type": "code",
      "execution_count": null,
      "id": "3004a6dd",
      "metadata": {
        "id": "3004a6dd",
        "outputId": "96aa68d7-2854-4676-9e2a-5f6bebbe72b4"
      },
      "outputs": [
        {
          "name": "stdout",
          "output_type": "stream",
          "text": [
            "Sample probabilities:\n",
            " tensor([[0.0799, 0.1171, 0.0794, 0.1101, 0.0953, 0.0785, 0.0955, 0.1543, 0.1175,\n",
            "         0.0723],\n",
            "        [0.0951, 0.1056, 0.0694, 0.1179, 0.1150, 0.0867, 0.0992, 0.1271, 0.0990,\n",
            "         0.0850]])\n",
            "Sum:  1.000000238418579\n"
          ]
        }
      ],
      "source": [
        "# Apply softmax for each output row\n",
        "probs = F.softmax(outputs, dim=1)\n",
        "\n",
        "# Look at sample probabilities\n",
        "print(\"Sample probabilities:\\n\", probs[:2].data)\n",
        "\n",
        "# Add up the probabilities of an output row\n",
        "print(\"Sum: \", torch.sum(probs[0]).item())"
      ]
    },
    {
      "cell_type": "markdown",
      "id": "d6b13451",
      "metadata": {
        "id": "d6b13451"
      },
      "source": [
        "마지막으로 각 출력 행에서 확률이 가장 높은 요소의 인덱스를 선택하기만 하면 각 이미지에 대한 예측 레이블을 결정할 수 있다.\n",
        "\n",
        "각 행의 가장 큰 요소와 해당 인덱스를 반환하는 `torch.max`를 사용하여 이를 수행할 수 있다."
      ]
    },
    {
      "cell_type": "code",
      "execution_count": null,
      "id": "9e48d764",
      "metadata": {
        "id": "9e48d764",
        "outputId": "d34c7ce8-e273-42b6-dee2-68a109b17b58"
      },
      "outputs": [
        {
          "name": "stdout",
          "output_type": "stream",
          "text": [
            "tensor([7, 7, 3, 7, 7, 7, 5, 7, 7, 7, 8, 7, 7, 7, 7, 7, 4, 4, 8, 7, 7, 4, 7, 8,\n",
            "        0, 8, 7, 7, 7, 9, 7, 7, 4, 1, 9, 4, 9, 7, 3, 8, 7, 7, 7, 4, 8, 8, 1, 0,\n",
            "        9, 7, 7, 8, 7, 7, 4, 8, 7, 7, 7, 8, 7, 7, 7, 7, 7, 7, 0, 7, 7, 7, 7, 7,\n",
            "        8, 7, 4, 7, 5, 0, 9, 4, 7, 0, 7, 7, 7, 7, 4, 7, 7, 1, 2, 8, 7, 7, 7, 5,\n",
            "        0, 3, 7, 8, 7, 7, 1, 7, 1, 7, 0, 4, 3, 9, 3, 4, 7, 7, 7, 2, 8, 7, 4, 7,\n",
            "        7, 9, 7, 7, 4, 7, 0, 7])\n",
            "tensor([0.1543, 0.1271, 0.1253, 0.1368, 0.1524, 0.1287, 0.1266, 0.1298, 0.1316,\n",
            "        0.1464, 0.1167, 0.1411, 0.1365, 0.1410, 0.1389, 0.1313, 0.1131, 0.1463,\n",
            "        0.1129, 0.1345, 0.1347, 0.1221, 0.1192, 0.1125, 0.1293, 0.1127, 0.1325,\n",
            "        0.1232, 0.1349, 0.1313, 0.1259, 0.1192, 0.1171, 0.1187, 0.1231, 0.1320,\n",
            "        0.1179, 0.1149, 0.1306, 0.1182, 0.1421, 0.1378, 0.1189, 0.1579, 0.1141,\n",
            "        0.1247, 0.1137, 0.1307, 0.1213, 0.1525, 0.1291, 0.1424, 0.1243, 0.1275,\n",
            "        0.1282, 0.1364, 0.1387, 0.1335, 0.1457, 0.1195, 0.1426, 0.1276, 0.1433,\n",
            "        0.1171, 0.1574, 0.1464, 0.1274, 0.1477, 0.1291, 0.1360, 0.1273, 0.1631,\n",
            "        0.1242, 0.1380, 0.1217, 0.1196, 0.1240, 0.1287, 0.1241, 0.1267, 0.1518,\n",
            "        0.1333, 0.1233, 0.1263, 0.1192, 0.1170, 0.1427, 0.1251, 0.1249, 0.1221,\n",
            "        0.1250, 0.1461, 0.1442, 0.1342, 0.1248, 0.1306, 0.1229, 0.1468, 0.1201,\n",
            "        0.1252, 0.1279, 0.1626, 0.1175, 0.1468, 0.1283, 0.1204, 0.1347, 0.1404,\n",
            "        0.1188, 0.1315, 0.1269, 0.1270, 0.1268, 0.1295, 0.1281, 0.1243, 0.1179,\n",
            "        0.1258, 0.1455, 0.1258, 0.1329, 0.1123, 0.1194, 0.1327, 0.1170, 0.1513,\n",
            "        0.1256, 0.1297], grad_fn=<MaxBackward0>)\n"
          ]
        }
      ],
      "source": [
        "max_probs, preds = torch.max(probs, dim=1)\n",
        "print(preds)\n",
        "print(max_probs)"
      ]
    },
    {
      "cell_type": "markdown",
      "id": "cbfd2307",
      "metadata": {
        "id": "cbfd2307"
      },
      "source": [
        "위에 인쇄된 숫자는 훈련 이미지의 첫 번째 배치에 대한 예측된 레이블이다.\n",
        "\n",
        "실제 라벨과 비교해 보겠다."
      ]
    },
    {
      "cell_type": "code",
      "execution_count": null,
      "id": "3bd3a894",
      "metadata": {
        "id": "3bd3a894",
        "outputId": "1648277e-223c-4aef-879f-691d56ce747a"
      },
      "outputs": [
        {
          "data": {
            "text/plain": [
              "tensor([8, 4, 3, 0, 8, 0, 0, 2, 9, 2, 3, 7, 7, 4, 0, 9, 9, 7, 1, 4, 2, 3, 4, 1,\n",
              "        3, 1, 8, 6, 5, 1, 7, 5, 1, 8, 1, 9, 1, 4, 7, 6, 2, 8, 6, 8, 6, 9, 8, 6,\n",
              "        1, 8, 2, 8, 2, 7, 4, 5, 5, 4, 3, 6, 8, 6, 3, 1, 0, 6, 6, 5, 8, 2, 7, 8,\n",
              "        5, 6, 3, 1, 6, 6, 1, 3, 2, 6, 2, 8, 2, 0, 9, 4, 7, 6, 5, 8, 4, 9, 0, 6,\n",
              "        8, 7, 0, 2, 4, 4, 1, 7, 6, 1, 4, 7, 5, 2, 2, 7, 5, 4, 2, 3, 6, 5, 9, 4,\n",
              "        0, 1, 4, 2, 1, 7, 6, 3])"
            ]
          },
          "execution_count": 35,
          "metadata": {},
          "output_type": "execute_result"
        }
      ],
      "source": [
        "labels"
      ]
    },
    {
      "cell_type": "markdown",
      "id": "fff3bc58",
      "metadata": {
        "id": "fff3bc58"
      },
      "source": [
        "대부분의 예측된 레이블은 실제 레이블과 다르다. 무작위로 초기화된 가중치와 편향으로 시작했기 때문이다.\n",
        "\n",
        "모델을 훈련시켜야한다. 즉, 더 나은 예측을 위해 경사하강법을 사용하여 가중치를 조정해야한다."
      ]
    },
    {
      "cell_type": "markdown",
      "id": "7831539d",
      "metadata": {
        "id": "7831539d"
      },
      "source": [
        "## 평가 메트릭 및 손실 함수\n",
        "\n",
        "선형 회귀와 마찬가지로 모델의 성능을 평가할 방법이 필요하다.\n",
        "\n",
        "이를 수행하는 자연스러운 방법은 올바르게 예측된 레이블의 백분율(예측의 **정확도**)을 찾는 것이다."
      ]
    },
    {
      "cell_type": "code",
      "execution_count": null,
      "id": "e5404f5e",
      "metadata": {
        "id": "e5404f5e",
        "outputId": "d772c6c8-12f6-445c-ebd8-d080cd759350"
      },
      "outputs": [
        {
          "data": {
            "text/plain": [
              "tensor([[-0.2213,  0.1604, -0.2281,  0.0992, -0.0449, -0.2389, -0.0427,  0.4363,\n",
              "          0.1643, -0.3218],\n",
              "        [-0.0171,  0.0877, -0.3320,  0.1971,  0.1721, -0.1101,  0.0245,  0.2728,\n",
              "          0.0228, -0.1300]], grad_fn=<SliceBackward>)"
            ]
          },
          "execution_count": 36,
          "metadata": {},
          "output_type": "execute_result"
        }
      ],
      "source": [
        "outputs[:2]"
      ]
    },
    {
      "cell_type": "code",
      "execution_count": null,
      "id": "96bf10ad",
      "metadata": {
        "id": "96bf10ad",
        "outputId": "1e033610-3168-42cd-b6b1-ea97f7a74039"
      },
      "outputs": [
        {
          "data": {
            "text/plain": [
              "tensor(13)"
            ]
          },
          "execution_count": 37,
          "metadata": {},
          "output_type": "execute_result"
        }
      ],
      "source": [
        "torch.sum(preds == labels)"
      ]
    },
    {
      "cell_type": "code",
      "execution_count": null,
      "id": "23cc8b8b",
      "metadata": {
        "id": "23cc8b8b"
      },
      "outputs": [],
      "source": [
        "def accuracy(outputs, labels):\n",
        "    _, preds = torch.max(outputs, dim=1)\n",
        "    return torch.tensor(torch.sum(preds == labels).item() / len(preds))"
      ]
    },
    {
      "cell_type": "markdown",
      "id": "67ee6449",
      "metadata": {
        "id": "67ee6449"
      },
      "source": [
        "`==` 연산자는 모양이 같은 두 텐서의 요소별 비교를 수행하고 같지 않은 요소에 대해 `True`를 포함하고 동일한 요소에 대해 `False`를 포함하는 동일한 모양의 텐서를 반환한다. 결과를 `torch.sum`에 전달하면 올바르게 예측된 레이블 수를 반환한다. 마지막으로 정확도를 얻기 위해 총 이미지 수로 나눈다.\n",
        "\n",
        "\n",
        "결과가 동일한 상대 순서를 가지므로 출력에 softmax를 적용할 필요가 없다. 이는 `e^x`가 증가 함수이기 때문이다. 즉, `y1 > y2`이면 `e^y1 > e^y2`이다. softmax를 얻기 위해 값을 평균화한 후에도 마찬가지다.\n",
        "\n",
        "데이터의 첫 번째 배치에서 현재 모델의 정확도를 계산해 보겠다."
      ]
    },
    {
      "cell_type": "code",
      "execution_count": null,
      "id": "d7fbc5f5",
      "metadata": {
        "id": "d7fbc5f5",
        "outputId": "40852195-1118-439f-8aa5-f59b8a01ee72"
      },
      "outputs": [
        {
          "data": {
            "text/plain": [
              "tensor(0.1016)"
            ]
          },
          "execution_count": 39,
          "metadata": {},
          "output_type": "execute_result"
        }
      ],
      "source": [
        "accuracy(outputs, labels)"
      ]
    },
    {
      "cell_type": "code",
      "execution_count": null,
      "id": "8238bffe",
      "metadata": {
        "id": "8238bffe",
        "outputId": "77818920-c9ad-4183-fd79-54218fb13829"
      },
      "outputs": [
        {
          "data": {
            "text/plain": [
              "tensor([[0.0799, 0.1171, 0.0794,  ..., 0.1543, 0.1175, 0.0723],\n",
              "        [0.0951, 0.1056, 0.0694,  ..., 0.1271, 0.0990, 0.0850],\n",
              "        [0.0968, 0.1162, 0.0988,  ..., 0.1173, 0.1054, 0.0942],\n",
              "        ...,\n",
              "        [0.0973, 0.0981, 0.0985,  ..., 0.1513, 0.0930, 0.0922],\n",
              "        [0.1256, 0.1017, 0.0779,  ..., 0.0982, 0.1165, 0.0775],\n",
              "        [0.1119, 0.1058, 0.0907,  ..., 0.1297, 0.1204, 0.0736]],\n",
              "       grad_fn=<SoftmaxBackward>)"
            ]
          },
          "execution_count": 40,
          "metadata": {},
          "output_type": "execute_result"
        }
      ],
      "source": [
        "probs"
      ]
    },
    {
      "cell_type": "markdown",
      "id": "d4d2f0d4",
      "metadata": {
        "id": "d4d2f0d4"
      },
      "source": [
        "정확도는 우리가 모델을 평가하는 훌륭한 방법이다. 그러나 다음과 같은 이유로 경사하강법을 사용하여 모델을 최적화하기 위한 손실 함수로 사용할 수 없다.\n",
        "\n",
        "1. 미분이 되지 않음 `torch.max`와 `==`는 모두 비연속적이고 미분할 수 없는 연산이므로 가중치와 편향으로 기울기를 계산하는 데 정확도를 사용할 수 없음\n",
        "\n",
        "2. 모델에 의해 예측된 실제 확률을 고려하지 않으므로 점진적 개선에 대한 충분한 피드백을 제공할 수 없음.\n",
        "\n",
        "\n",
        "이러한 이유로 종종 정확도는 분류 평가 지표로 활용되긴하지만, 손실함수로 사용되지 않는다.  분류 문제에 일반적으로 사용되는 손실 함수는 **교차 엔트로피**이며 아래에 공식이 있다.\n",
        "\n",
        "![크로스 엔트로피](https://i.imgur.com/VDRDl1D.png)\n",
        "\n",
        "복잡해 보이지만 실제로는 매우 간단하다.\n",
        "\n",
        "* 각 출력 행에 대해 올바른 레이블에 대한 예측 확률을 선택한다.\n",
        "\n",
        "예를 들어 이미지에 대한 예측 확률이 `[0.1, 0.3, 0.2, ...]`이고 올바른 레이블이 `1`이면 해당 요소 `0.3`을 선택하고 나머지는 무시한다.\n",
        "\n",
        "* 그런 다음 선택한 확률의 [logarithm](https://en.wikipedia.org/wiki/Logarithm)을 취한다.\n",
        "\n",
        "확률이 높으면, 즉 1에 가까우면 로그는 0에 가까운 매우 작은 음수 값이다. 그리고 확률이 낮으면(0에 가까움) 로그는 매우 큰 음수 값이다. 또한 결과에 -1을 곱한다. 이는 결과가 좋지 않은 예측에 대한 손실의 큰 양수 값이다.\n",
        "\n",
        "\n",
        "![](https://www.intmath.com/blog/wp-content/images/2019/05/log10.png)\n",
        "\n",
        "* 마지막으로 모든 출력 행에 대한 교차 엔트로피의 평균을 취하여 데이터 배치에 대한 전체 손실을 얻는다.\n",
        "\n",
        "정확도와 달리 교차 엔트로피는 연속적이고 미분 가능한 함수다. 또한 모델의 점진적 개선에 대한 유용한 피드백을 제공한다(정확한 레이블에 대한 약간 더 높은 확률은 더 낮은 손실로 이어짐). 이 두 가지 요소는 교차 엔트로피를 손실 함수에 더 나은 선택으로 만든다.\n",
        "\n",
        "\n",
        "예상할 수 있듯이 PyTorch는 `torch.nn.functional` 패키지의 일부로 효율적이고 텐서 친화적인 교차 엔트로피 구현을 제공한다. 또한 내부적으로 softmax를 수행하므로 확률로 변환하지 않고 모델의 출력을 직접 전달할 수 있다."
      ]
    },
    {
      "cell_type": "code",
      "execution_count": null,
      "id": "e01e89d3",
      "metadata": {
        "id": "e01e89d3",
        "outputId": "86668e56-9681-406c-d768-71ad3a6f3227"
      },
      "outputs": [
        {
          "data": {
            "text/plain": [
              "tensor([[-0.2213,  0.1604, -0.2281,  ...,  0.4363,  0.1643, -0.3218],\n",
              "        [-0.0171,  0.0877, -0.3320,  ...,  0.2728,  0.0228, -0.1300],\n",
              "        [-0.0406,  0.1420, -0.0203,  ...,  0.1516,  0.0442, -0.0680],\n",
              "        ...,\n",
              "        [-0.0916, -0.0834, -0.0794,  ...,  0.3498, -0.1367, -0.1454],\n",
              "        [ 0.2405,  0.0297, -0.2364,  ..., -0.0056,  0.1652, -0.2425],\n",
              "        [ 0.0627,  0.0069, -0.1473,  ...,  0.2104,  0.1357, -0.3558]],\n",
              "       grad_fn=<AddmmBackward>)"
            ]
          },
          "execution_count": 41,
          "metadata": {},
          "output_type": "execute_result"
        }
      ],
      "source": [
        "outputs"
      ]
    },
    {
      "cell_type": "code",
      "execution_count": null,
      "id": "5fc4532a",
      "metadata": {
        "id": "5fc4532a"
      },
      "outputs": [],
      "source": [
        "loss_fn = F.cross_entropy"
      ]
    },
    {
      "cell_type": "code",
      "execution_count": null,
      "id": "c520413a",
      "metadata": {
        "id": "c520413a",
        "outputId": "e08a179c-f609-40e5-8c7f-7deba1af910e"
      },
      "outputs": [
        {
          "name": "stdout",
          "output_type": "stream",
          "text": [
            "tensor(2.3075, grad_fn=<NllLossBackward>)\n"
          ]
        }
      ],
      "source": [
        "# Loss for current batch of data\n",
        "loss = loss_fn(outputs, labels)\n",
        "print(loss)"
      ]
    },
    {
      "cell_type": "markdown",
      "id": "4b034a9d",
      "metadata": {
        "id": "4b034a9d"
      },
      "source": [
        "우리는 교차 엔트로피가 모든 훈련 샘플에 대해 평균화된 올바른 레이블의 예측 확률의 음의 로그라는 것을 알고 있다. 따라서 결과 숫자를 해석하는 한 가지 방법은 다음과 같습니다. `2.23`은 `e^-2.23`을 보면 평균적으로 올바른 레이블의 예측 확률이 `0.1` 정도다.\n",
        "\n",
        "*손실이 낮을수록 좋은 모델*"
      ]
    },
    {
      "cell_type": "markdown",
      "id": "4ab67ec0",
      "metadata": {
        "id": "4ab67ec0"
      },
      "source": [
        "## 모델 훈련\n",
        "\n",
        "데이터 로더, 모델, 손실 함수 및 옵티마이저를 정의했으므로 이제 모델을 훈련할 준비가 되었다.\n",
        "\n",
        "훈련 과정은 각 시대의 모델을 평가하기 위해 \"검증 단계\"가 추가된 선형 회귀와 동일하다. 아래에 의사코드를 나타냈음:\n",
        "\n",
        "```\n",
        "for epoch in range(num_epochs):\n",
        "    # Training phase\n",
        "    for batch in train_loader:\n",
        "        # Generate predictions\n",
        "        # Calculate loss\n",
        "        # Compute gradients\n",
        "        # Update weights\n",
        "        # Reset gradients\n",
        "    \n",
        "    # Validation phase\n",
        "    for batch in val_loader:\n",
        "        # Generate predictions\n",
        "        # Calculate loss\n",
        "        # Calculate metrics (accuracy etc.)\n",
        "    # Calculate average validation loss & metrics\n",
        "    \n",
        "    # Log epoch, loss & metrics for inspection\n",
        "```\n",
        "\n",
        "훈련 루프의 일부는 우리가 해결하고 있는 특정 문제(예: 손실 함수, 메트릭 등)에 특정한 반면 다른 부분은 일반적이며 모든 딥 러닝 문제에 적용할 수 있다. 모델을 훈련하는 데 사용할 `fit`이라는 함수에 문제와 무관한 부분을 포함할 것이다. \n",
        "\n",
        "문제별 부분은 `nn.Module` 클래스에 새 메서드를 추가하여 구현된다."
      ]
    },
    {
      "cell_type": "code",
      "execution_count": null,
      "id": "b630c63c",
      "metadata": {
        "id": "b630c63c"
      },
      "outputs": [],
      "source": [
        "def fit(epochs, lr, model, train_loader, val_loader, opt_func=torch.optim.SGD):\n",
        "    optimizer = opt_func(model.parameters(), lr)\n",
        "    history = [] # for recording epoch-wise results\n",
        "    \n",
        "    for epoch in range(epochs):\n",
        "        \n",
        "        # Training Phase \n",
        "        for batch in train_loader:\n",
        "            loss = model.training_step(batch)\n",
        "            loss.backward()\n",
        "            optimizer.step()\n",
        "            optimizer.zero_grad()\n",
        "        \n",
        "        # Validation phase\n",
        "        result = evaluate(model, val_loader)\n",
        "        model.epoch_end(epoch, result)\n",
        "        history.append(result)\n",
        "\n",
        "    return history"
      ]
    },
    {
      "cell_type": "markdown",
      "id": "17cf344c",
      "metadata": {
        "id": "17cf344c"
      },
      "source": [
        "`fit`함수는 각 에포크의 유효성 검사 손실과 메트릭을 기록한다. 디버깅 및 시각화에 유용한 교육 기록을 반환한다.\n",
        "\n",
        "배치 크기, 학습률 등과 같은 구성(초매개변수라고 함)은 기계 학습 모델을 학습하는 동안 미리 선택해야 한다.\n",
        "적절한 초매개변수를 선택하는 것은 합리적인 시간 내에 합리적으로 정확한 모델을 훈련하는 데 중요하다. 머신 러닝의 연구 및 실험이 활발한 영역이다. 자유롭게 다양한 학습률을 시도하고 이것이 교육 과정에 어떤 영향을 미치는지 확인해보자.\n",
        "\n",
        "`fit`의 유효성 검사 단계에서 사용되는 `evaluate`함수를 정의해 보겠다."
      ]
    },
    {
      "cell_type": "code",
      "execution_count": null,
      "id": "52dd9b94",
      "metadata": {
        "id": "52dd9b94"
      },
      "outputs": [],
      "source": [
        "l1 = [1, 2, 3, 4, 5]"
      ]
    },
    {
      "cell_type": "code",
      "execution_count": null,
      "id": "3b0fe932",
      "metadata": {
        "id": "3b0fe932",
        "outputId": "77accc13-c2b9-4c30-fb33-00716974533e"
      },
      "outputs": [
        {
          "data": {
            "text/plain": [
              "[2, 4, 6, 8, 10]"
            ]
          },
          "execution_count": 46,
          "metadata": {},
          "output_type": "execute_result"
        }
      ],
      "source": [
        "l2 = [x*2 for x in l1]\n",
        "l2"
      ]
    },
    {
      "cell_type": "code",
      "execution_count": null,
      "id": "ae64e879",
      "metadata": {
        "id": "ae64e879"
      },
      "outputs": [],
      "source": [
        "def evaluate(model, val_loader):\n",
        "    outputs = [model.validation_step(batch) for batch in val_loader]\n",
        "    return model.validation_epoch_end(outputs)"
      ]
    },
    {
      "cell_type": "markdown",
      "id": "d38e1e17",
      "metadata": {
        "id": "d38e1e17"
      },
      "source": [
        "마지막으로 `fit` 및 `evaluate`에서 사용하는 추가 메소드 `training_step`, `validation_step`, `validation_epoch_end`, `epoch_end`를 포함하도록 `MnistModel` 클래스를 재정의해 보겠다."
      ]
    },
    {
      "cell_type": "code",
      "execution_count": null,
      "id": "325add75",
      "metadata": {
        "id": "325add75"
      },
      "outputs": [],
      "source": [
        "class MnistModel(nn.Module):\n",
        "    def __init__(self):\n",
        "        super().__init__()\n",
        "        self.linear = nn.Linear(input_size, num_classes)\n",
        "        \n",
        "    def forward(self, xb):\n",
        "        xb = xb.reshape(-1, 784)\n",
        "        out = self.linear(xb)\n",
        "        return out\n",
        "    \n",
        "    def training_step(self, batch):\n",
        "        images, labels = batch \n",
        "        out = self(images)                  # Generate predictions\n",
        "        loss = F.cross_entropy(out, labels) # Calculate loss\n",
        "        return loss\n",
        "    \n",
        "    def validation_step(self, batch):\n",
        "        images, labels = batch \n",
        "        out = self(images)                    # Generate predictions\n",
        "        loss = F.cross_entropy(out, labels)   # Calculate loss\n",
        "        acc = accuracy(out, labels)           # Calculate accuracy\n",
        "        return {'val_loss': loss, 'val_acc': acc}\n",
        "        \n",
        "    def validation_epoch_end(self, outputs):\n",
        "        batch_losses = [x['val_loss'] for x in outputs]\n",
        "        epoch_loss = torch.stack(batch_losses).mean()   # Combine losses\n",
        "        batch_accs = [x['val_acc'] for x in outputs]\n",
        "        epoch_acc = torch.stack(batch_accs).mean()      # Combine accuracies\n",
        "        return {'val_loss': epoch_loss.item(), 'val_acc': epoch_acc.item()}\n",
        "    \n",
        "    def epoch_end(self, epoch, result):\n",
        "        print(\"Epoch [{}], val_loss: {:.4f}, val_acc: {:.4f}\".format(epoch, result['val_loss'], result['val_acc']))\n",
        "    \n",
        "model = MnistModel()"
      ]
    },
    {
      "cell_type": "markdown",
      "id": "e8b5536b",
      "metadata": {
        "id": "e8b5536b"
      },
      "source": [
        "모델을 훈련시키기 전에 무작위로 초기화된 가중치 및 편향의 초기 세트를 사용하여 검증 세트에서 모델이 어떻게 수행되는지 보자."
      ]
    },
    {
      "cell_type": "code",
      "execution_count": null,
      "id": "ae0b01fd",
      "metadata": {
        "id": "ae0b01fd",
        "outputId": "a4b02522-a471-4c7d-8786-ef240024238c"
      },
      "outputs": [
        {
          "data": {
            "text/plain": [
              "{'val_loss': 2.3294854164123535, 'val_acc': 0.06744462251663208}"
            ]
          },
          "execution_count": 49,
          "metadata": {},
          "output_type": "execute_result"
        }
      ],
      "source": [
        "result0 = evaluate(model, val_loader)\n",
        "result0"
      ]
    },
    {
      "cell_type": "markdown",
      "id": "eee69443",
      "metadata": {
        "id": "eee69443"
      },
      "source": [
        "초기 정확도는 약 10%로 무작위로 초기화된 모델에서 기대할 수 있다(무작위로 추측하여 올바른 레이블을 얻을 확률이 10분의 1이기 때문에).\n",
        "\n",
        "이제 모델을 훈련할 준비가 되었다. 5개의 Epoch 동안 훈련하고 결과를 살펴보겠다."
      ]
    },
    {
      "cell_type": "code",
      "execution_count": null,
      "id": "e1cf31c4",
      "metadata": {
        "id": "e1cf31c4",
        "outputId": "430642eb-a3cd-417f-861e-75a518b74534"
      },
      "outputs": [
        {
          "name": "stdout",
          "output_type": "stream",
          "text": [
            "Epoch [0], val_loss: 1.9630, val_acc: 0.6008\n",
            "Epoch [1], val_loss: 1.6926, val_acc: 0.7300\n",
            "Epoch [2], val_loss: 1.4901, val_acc: 0.7661\n",
            "Epoch [3], val_loss: 1.3368, val_acc: 0.7868\n",
            "Epoch [4], val_loss: 1.2187, val_acc: 0.8000\n"
          ]
        }
      ],
      "source": [
        "history1 = fit(5, 0.001, model, train_loader, val_loader)"
      ]
    },
    {
      "cell_type": "markdown",
      "id": "26779d77",
      "metadata": {
        "id": "26779d77"
      },
      "source": [
        "좋은 결과입니다! 단 5개의 Epoch 훈련으로 우리 모델은 검증 세트에서 80% 이상의 정확도에 도달했다.\n",
        "\n",
        "몇 에포크를 더 훈련하여 개선할 수 있는지 보자.\n",
        "\n",
        "아래의 각 셀에서 학습률과 Epoch 수를 변경해 보세요."
      ]
    },
    {
      "cell_type": "code",
      "execution_count": null,
      "id": "06262b91",
      "metadata": {
        "id": "06262b91",
        "outputId": "b8a932b6-fa00-497e-dcc2-2ecf048c9587"
      },
      "outputs": [
        {
          "name": "stdout",
          "output_type": "stream",
          "text": [
            "Epoch [0], val_loss: 0.9392, val_acc: 0.8278\n",
            "Epoch [1], val_loss: 0.8962, val_acc: 0.8314\n",
            "Epoch [2], val_loss: 0.8594, val_acc: 0.8348\n",
            "Epoch [3], val_loss: 0.8276, val_acc: 0.8384\n",
            "Epoch [4], val_loss: 0.7997, val_acc: 0.8403\n"
          ]
        }
      ],
      "source": [
        "history2 = fit(5, 0.001, model, train_loader, val_loader)"
      ]
    },
    {
      "cell_type": "code",
      "execution_count": null,
      "id": "c57b2330",
      "metadata": {
        "id": "c57b2330",
        "outputId": "1d5bce8a-d255-4022-a809-87b0ab795881"
      },
      "outputs": [
        {
          "name": "stdout",
          "output_type": "stream",
          "text": [
            "Epoch [0], val_loss: 0.7751, val_acc: 0.8425\n",
            "Epoch [1], val_loss: 0.7532, val_acc: 0.8452\n",
            "Epoch [2], val_loss: 0.7336, val_acc: 0.8469\n",
            "Epoch [3], val_loss: 0.7159, val_acc: 0.8486\n",
            "Epoch [4], val_loss: 0.6999, val_acc: 0.8504\n"
          ]
        }
      ],
      "source": [
        "history3 = fit(5, 0.001, model, train_loader, val_loader)"
      ]
    },
    {
      "cell_type": "code",
      "execution_count": null,
      "id": "95e4fdde",
      "metadata": {
        "id": "95e4fdde",
        "outputId": "6584f57e-9920-404a-b26d-9574b422e174"
      },
      "outputs": [
        {
          "name": "stdout",
          "output_type": "stream",
          "text": [
            "Epoch [0], val_loss: 0.6853, val_acc: 0.8527\n",
            "Epoch [1], val_loss: 0.6719, val_acc: 0.8542\n",
            "Epoch [2], val_loss: 0.6596, val_acc: 0.8554\n",
            "Epoch [3], val_loss: 0.6483, val_acc: 0.8558\n",
            "Epoch [4], val_loss: 0.6377, val_acc: 0.8568\n"
          ]
        }
      ],
      "source": [
        "history4 = fit(5, 0.001, model, train_loader, val_loader)"
      ]
    },
    {
      "cell_type": "code",
      "execution_count": null,
      "id": "1eecd371",
      "metadata": {
        "id": "1eecd371",
        "outputId": "e3d5b80e-4893-47bf-c1b7-21d8c797f341"
      },
      "outputs": [
        {
          "data": {
            "image/png": "[encoded data removed]",
            "text/plain": [
              "<Figure size 432x288 with 1 Axes>"
            ]
          },
          "metadata": {
            "needs_background": "light"
          },
          "output_type": "display_data"
        }
      ],
      "source": [
        "history = [result0] + history1 + history2 + history3 + history4\n",
        "accuracies = [result['val_acc'] for result in history]\n",
        "plt.plot(accuracies, '-x')\n",
        "plt.xlabel('epoch')\n",
        "plt.ylabel('accuracy')\n",
        "plt.title('Accuracy vs. No. of epochs');"
      ]
    },
    {
      "cell_type": "markdown",
      "id": "e221ba45",
      "metadata": {
        "id": "e221ba45"
      },
      "source": [
        "위의 그림을 보면 모델이 아주 오랜 시간 동안 훈련한 후에도 정확도 임계값 90%를 넘지 않을 것이라는 점을 아주 분명하게 알 수 있다. 이에 대한 한 가지 가능한 이유는 학습률이 너무 높을 수 있기 때문이다. 모델의 매개변수는 가장 낮은 손실을 위한 최적의 매개변수 세트를 중심으로 `\"바운스\"`할 수 있다. 학습률을 줄이고 몇 에포크를 더 훈련하여 도움이 되는지 확인할 수 있다.\n",
        "\n",
        "**모델이 충분히 강력하지 않은** 이유가 더 많다. 초기 가설을 기억한다면 출력(이 경우 클래스 확률)은 입력(픽셀 강도)과 가중치 행렬 곱을 수행하고 편향을 더한 결과인 **선형 함수**이다. 이미지의 픽셀 강도와 이미지가 나타내는 숫자 사이에 선형 관계가 실제로 존재하지 않을 수 있으므로 이것은 상당히 약한 가정이다.\n",
        "\n",
        "MNIST(85% 정확도 제공)와 같은 간단한 데이터 세트에서는 합리적으로 잘 작동하지만 일상적인 물체, 동물 등을 인식하는 것과 같은 복잡한 작업을 위해 이미지 픽셀과 레이블 간의 비선형 관계를 캡처할 수 있는 보다 정교한 모델이 필요하다."
      ]
    },
    {
      "cell_type": "markdown",
      "id": "3ec5ca52",
      "metadata": {
        "id": "3ec5ca52"
      },
      "source": [
        "## 개별 이미지로 테스트\n",
        "\n",
        "지금까지 모델의 전체 정확도를 추적했지만 일부 샘플 이미지에서 모델의 결과를 확인하는 것도 좋은 생각일 것이다.\n",
        "\n",
        "미리 정의된 10000개 이미지의 테스트 데이터 세트에서 일부 이미지로 모델을 테스트해 보자.\n",
        "\n",
        "`ToTensor`변환을 사용하여 테스트 데이터 세트를 다시 만드는 것으로 시작하자."
      ]
    },
    {
      "cell_type": "code",
      "execution_count": null,
      "id": "ad4ccdd2",
      "metadata": {
        "id": "ad4ccdd2"
      },
      "outputs": [],
      "source": [
        "# Define test dataset\n",
        "test_dataset = MNIST(root='data/', \n",
        "                     train=False,\n",
        "                     transform=transforms.ToTensor())"
      ]
    },
    {
      "cell_type": "code",
      "execution_count": null,
      "id": "c06803d9",
      "metadata": {
        "id": "c06803d9",
        "outputId": "381734ff-225c-4076-b3e3-d7a756e218ee"
      },
      "outputs": [
        {
          "name": "stdout",
          "output_type": "stream",
          "text": [
            "Shape: torch.Size([1, 28, 28])\n",
            "Label: 7\n"
          ]
        },
        {
          "data": {
            "image/png": "[encoded data removed]",
            "text/plain": [
              "<Figure size 432x288 with 1 Axes>"
            ]
          },
          "metadata": {
            "needs_background": "light"
          },
          "output_type": "display_data"
        }
      ],
      "source": [
        "img, label = test_dataset[0]\n",
        "plt.imshow(img[0], cmap='gray')\n",
        "print('Shape:', img.shape)\n",
        "print('Label:', label)"
      ]
    },
    {
      "cell_type": "markdown",
      "id": "08abad10",
      "metadata": {
        "id": "08abad10"
      },
      "source": [
        "단일 이미지 텐서에 대해 예측된 레이블을 반환하는 도우미 함수 `predict_image`를 정의해 보겠다."
      ]
    },
    {
      "cell_type": "code",
      "execution_count": null,
      "id": "94c525a0",
      "metadata": {
        "id": "94c525a0"
      },
      "outputs": [],
      "source": [
        "def predict_image(img, model):\n",
        "    xb = img.unsqueeze(0)\n",
        "    yb = model(xb)\n",
        "    _, preds = torch.max(yb, dim=1)\n",
        "    return preds[0].item()"
      ]
    },
    {
      "cell_type": "markdown",
      "id": "066f6e56",
      "metadata": {
        "id": "066f6e56"
      },
      "source": [
        "`img.unsqueeze`는 1x28x28 텐서의 시작 부분에 다른 차원을 추가하여 1x1x28x28 텐서를 만들고 모델이 단일 이미지를 포함하는 배치로 보자.\n",
        "\n",
        "몇 개의 이미지로 시도해 보자."
      ]
    },
    {
      "cell_type": "code",
      "execution_count": null,
      "id": "d63aa30f",
      "metadata": {
        "id": "d63aa30f",
        "outputId": "157315b8-e560-4731-fd16-21d1f3dfec16"
      },
      "outputs": [
        {
          "name": "stdout",
          "output_type": "stream",
          "text": [
            "Label: 7 , Predicted: 7\n"
          ]
        },
        {
          "data": {
            "image/png": "[encoded data removed]",
            "text/plain": [
              "<Figure size 432x288 with 1 Axes>"
            ]
          },
          "metadata": {
            "needs_background": "light"
          },
          "output_type": "display_data"
        }
      ],
      "source": [
        "img, label = test_dataset[0]\n",
        "plt.imshow(img[0], cmap='gray')\n",
        "print('Label:', label, ', Predicted:', predict_image(img, model))"
      ]
    },
    {
      "cell_type": "code",
      "execution_count": null,
      "id": "720325eb",
      "metadata": {
        "id": "720325eb",
        "outputId": "90bf3d29-451f-4b90-fd39-ade8225a22f9"
      },
      "outputs": [
        {
          "name": "stdout",
          "output_type": "stream",
          "text": [
            "Label: 0 , Predicted: 0\n"
          ]
        },
        {
          "data": {
            "image/png": "[encoded data removed]",
            "text/plain": [
              "<Figure size 432x288 with 1 Axes>"
            ]
          },
          "metadata": {
            "needs_background": "light"
          },
          "output_type": "display_data"
        }
      ],
      "source": [
        "img, label = test_dataset[10]\n",
        "plt.imshow(img[0], cmap='gray')\n",
        "print('Label:', label, ', Predicted:', predict_image(img, model))"
      ]
    },
    {
      "cell_type": "code",
      "execution_count": null,
      "id": "43971854",
      "metadata": {
        "id": "43971854",
        "outputId": "124b1640-8f21-456b-f5cd-bdc31be10b55"
      },
      "outputs": [
        {
          "name": "stdout",
          "output_type": "stream",
          "text": [
            "Label: 9 , Predicted: 9\n"
          ]
        },
        {
          "data": {
            "image/png": "[encoded data removed]",
            "text/plain": [
              "<Figure size 432x288 with 1 Axes>"
            ]
          },
          "metadata": {
            "needs_background": "light"
          },
          "output_type": "display_data"
        }
      ],
      "source": [
        "img, label = test_dataset[193]\n",
        "plt.imshow(img[0], cmap='gray')\n",
        "print('Label:', label, ', Predicted:', predict_image(img, model))"
      ]
    },
    {
      "cell_type": "code",
      "execution_count": null,
      "id": "5efc6d7e",
      "metadata": {
        "id": "5efc6d7e",
        "outputId": "a2680448-4853-4395-ee4b-b7d8c3db41ba"
      },
      "outputs": [
        {
          "name": "stdout",
          "output_type": "stream",
          "text": [
            "Label: 2 , Predicted: 8\n"
          ]
        },
        {
          "data": {
            "image/png": "[encoded data removed]",
            "text/plain": [
              "<Figure size 432x288 with 1 Axes>"
            ]
          },
          "metadata": {
            "needs_background": "light"
          },
          "output_type": "display_data"
        }
      ],
      "source": [
        "img, label = test_dataset[1839]\n",
        "plt.imshow(img[0], cmap='gray')\n",
        "print('Label:', label, ', Predicted:', predict_image(img, model))"
      ]
    },
    {
      "cell_type": "markdown",
      "id": "95651572",
      "metadata": {
        "id": "95651572"
      },
      "source": [
        "모델 성능이 저조한 위치를 식별하면 더 많은 교육 데이터를 수집하고 모델의 복잡성을 늘리거나 줄이며 하이퍼파라미터를 변경하여 모델을 개선하는 데 도움이 될 수 있다.\n",
        "\n",
        "마지막 단계로 테스트 세트에서 모델의 전체 손실과 정확도도 살펴보자."
      ]
    },
    {
      "cell_type": "code",
      "execution_count": null,
      "id": "6f417dc6",
      "metadata": {
        "id": "6f417dc6",
        "outputId": "6343bfa0-c475-4ab7-c817-3e25a23851c7"
      },
      "outputs": [
        {
          "data": {
            "text/plain": [
              "{'val_loss': 0.606325089931488, 'val_acc': 0.865039050579071}"
            ]
          },
          "execution_count": 63,
          "metadata": {},
          "output_type": "execute_result"
        }
      ],
      "source": [
        "test_loader = DataLoader(test_dataset, batch_size=256)\n",
        "result = evaluate(model, test_loader)\n",
        "result"
      ]
    },
    {
      "cell_type": "markdown",
      "id": "72d8926a",
      "metadata": {
        "id": "72d8926a"
      },
      "source": [
        "이것이 검증 세트의 정확도/손실과 유사할 것으로 예상된다.\n",
        "\n",
        "그렇지 않은 경우 테스트 세트(종종 실제 데이터에서 가져옴)와 유사한 데이터 및 분포를 가진 더 나은 검증 세트가 필요할 수 있다."
      ]
    },
    {
      "cell_type": "markdown",
      "id": "648925e8",
      "metadata": {
        "id": "648925e8"
      },
      "source": [
        "## 모델 저장 및 불러오기\n",
        "\n",
        "우리는 오랜 시간 동안 모델을 훈련했고 상당한 정확도를 달성했기 때문에 나중에 모델을 재사용하고 처음부터 다시 훈련하지 않도록 가중치와 편향 행렬을 디스크에 저장하는 것이 좋다. \n",
        "\n",
        "모델을 저장하는 방법은 아래와 같다."
      ]
    },
    {
      "cell_type": "code",
      "execution_count": null,
      "id": "7135eeb6",
      "metadata": {
        "id": "7135eeb6"
      },
      "outputs": [],
      "source": [
        "torch.save(model.state_dict(), 'mnist-logistic.pth')"
      ]
    },
    {
      "cell_type": "markdown",
      "id": "e62ff8a8",
      "metadata": {
        "id": "e62ff8a8"
      },
      "source": [
        "`.state_dict` 메소드는 모델의 올바른 속성에 매핑된 모든 가중치와 편향 행렬을 포함하는 `OrderedDict`를 반환한다."
      ]
    },
    {
      "cell_type": "code",
      "execution_count": null,
      "id": "5aef237d",
      "metadata": {
        "id": "5aef237d",
        "outputId": "509f437a-af33-462b-aa57-e3679102545d"
      },
      "outputs": [
        {
          "data": {
            "text/plain": [
              "OrderedDict([('linear.weight',\n",
              "              tensor([[ 1.5897e-03,  1.4094e-02,  6.9776e-03,  ...,  1.0001e-02,\n",
              "                        4.2146e-04,  5.3545e-03],\n",
              "                      [-1.2061e-02, -1.0422e-02, -2.0551e-02,  ..., -2.6979e-03,\n",
              "                       -3.5059e-02, -2.0220e-02],\n",
              "                      [-4.5509e-04,  4.6315e-03,  2.2319e-02,  ...,  1.2776e-02,\n",
              "                        3.2915e-02, -7.8641e-03],\n",
              "                      ...,\n",
              "                      [ 5.4894e-03, -3.2955e-02, -9.4656e-05,  ..., -2.0017e-02,\n",
              "                        9.5782e-03, -1.5799e-02],\n",
              "                      [-2.1682e-02,  2.8357e-02,  3.2435e-02,  ..., -3.4468e-02,\n",
              "                       -1.9810e-02,  3.5382e-02],\n",
              "                      [ 1.8925e-02,  2.3795e-02,  2.5661e-02,  ..., -9.8993e-03,\n",
              "                       -2.1034e-03,  9.2217e-03]])),\n",
              "             ('linear.bias',\n",
              "              tensor([-0.0790,  0.0707, -0.0161, -0.0241,  0.0467,  0.0795, -0.0009,  0.0380,\n",
              "                      -0.0811,  0.0117]))])"
            ]
          },
          "execution_count": 65,
          "metadata": {},
          "output_type": "execute_result"
        }
      ],
      "source": [
        "model.state_dict()"
      ]
    },
    {
      "cell_type": "markdown",
      "id": "db10a1e4",
      "metadata": {
        "id": "db10a1e4"
      },
      "source": [
        "모델 가중치를 로드하기 위해 `MnistModel` 클래스의 새 객체를 인스턴스화하고 `.load_state_dict` 메소드를 사용할 수 있다."
      ]
    },
    {
      "cell_type": "code",
      "execution_count": null,
      "id": "eba25d67",
      "metadata": {
        "id": "eba25d67"
      },
      "outputs": [],
      "source": [
        "model2 = MnistModel()"
      ]
    },
    {
      "cell_type": "code",
      "execution_count": null,
      "id": "a017ebef",
      "metadata": {
        "id": "a017ebef",
        "outputId": "8ce94805-83b1-4b30-cf98-8033f2500e5d"
      },
      "outputs": [
        {
          "data": {
            "text/plain": [
              "OrderedDict([('linear.weight',\n",
              "              tensor([[ 0.0036,  0.0042, -0.0357,  ..., -0.0117,  0.0206, -0.0184],\n",
              "                      [ 0.0281, -0.0338, -0.0348,  ...,  0.0302, -0.0154, -0.0303],\n",
              "                      [ 0.0166,  0.0173,  0.0341,  ...,  0.0017,  0.0085, -0.0300],\n",
              "                      ...,\n",
              "                      [-0.0128, -0.0042, -0.0291,  ..., -0.0113,  0.0143,  0.0338],\n",
              "                      [-0.0294,  0.0166,  0.0178,  ...,  0.0318,  0.0100, -0.0081],\n",
              "                      [ 0.0144, -0.0150, -0.0219,  ...,  0.0018, -0.0261,  0.0130]])),\n",
              "             ('linear.bias',\n",
              "              tensor([ 0.0312, -0.0247, -0.0163, -0.0255, -0.0239,  0.0192,  0.0031,  0.0338,\n",
              "                       0.0332, -0.0274]))])"
            ]
          },
          "execution_count": 67,
          "metadata": {},
          "output_type": "execute_result"
        }
      ],
      "source": [
        "model2.state_dict()"
      ]
    },
    {
      "cell_type": "code",
      "execution_count": null,
      "id": "48c7cc4a",
      "metadata": {
        "id": "48c7cc4a",
        "outputId": "2d393a8d-3e34-4c63-ed99-bf3f116b0577"
      },
      "outputs": [
        {
          "data": {
            "text/plain": [
              "{'val_loss': 2.3144640922546387, 'val_acc': 0.12509766221046448}"
            ]
          },
          "execution_count": 68,
          "metadata": {},
          "output_type": "execute_result"
        }
      ],
      "source": [
        "evaluate(model2, test_loader)"
      ]
    },
    {
      "cell_type": "code",
      "execution_count": null,
      "id": "c2ae0390",
      "metadata": {
        "id": "c2ae0390",
        "outputId": "047e0f24-7392-4cc4-994d-c42ce3d56024"
      },
      "outputs": [
        {
          "data": {
            "text/plain": [
              "OrderedDict([('linear.weight',\n",
              "              tensor([[ 1.5897e-03,  1.4094e-02,  6.9776e-03,  ...,  1.0001e-02,\n",
              "                        4.2146e-04,  5.3545e-03],\n",
              "                      [-1.2061e-02, -1.0422e-02, -2.0551e-02,  ..., -2.6979e-03,\n",
              "                       -3.5059e-02, -2.0220e-02],\n",
              "                      [-4.5509e-04,  4.6315e-03,  2.2319e-02,  ...,  1.2776e-02,\n",
              "                        3.2915e-02, -7.8641e-03],\n",
              "                      ...,\n",
              "                      [ 5.4894e-03, -3.2955e-02, -9.4656e-05,  ..., -2.0017e-02,\n",
              "                        9.5782e-03, -1.5799e-02],\n",
              "                      [-2.1682e-02,  2.8357e-02,  3.2435e-02,  ..., -3.4468e-02,\n",
              "                       -1.9810e-02,  3.5382e-02],\n",
              "                      [ 1.8925e-02,  2.3795e-02,  2.5661e-02,  ..., -9.8993e-03,\n",
              "                       -2.1034e-03,  9.2217e-03]])),\n",
              "             ('linear.bias',\n",
              "              tensor([-0.0790,  0.0707, -0.0161, -0.0241,  0.0467,  0.0795, -0.0009,  0.0380,\n",
              "                      -0.0811,  0.0117]))])"
            ]
          },
          "execution_count": 69,
          "metadata": {},
          "output_type": "execute_result"
        }
      ],
      "source": [
        "model2.load_state_dict(torch.load('mnist-logistic.pth'))\n",
        "model2.state_dict()"
      ]
    },
    {
      "cell_type": "code",
      "execution_count": null,
      "id": "25979b85",
      "metadata": {
        "id": "25979b85",
        "outputId": "af749065-e4eb-40fe-a287-0174fd2986c0"
      },
      "outputs": [
        {
          "data": {
            "text/plain": [
              "{'val_loss': 0.606325089931488, 'val_acc': 0.865039050579071}"
            ]
          },
          "execution_count": 70,
          "metadata": {},
          "output_type": "execute_result"
        }
      ],
      "source": [
        "test_loader = DataLoader(test_dataset, batch_size=256)\n",
        "result = evaluate(model2, test_loader)\n",
        "result"
      ]
    },
    {
      "cell_type": "code",
      "execution_count": null,
      "id": "a1da9fcd",
      "metadata": {
        "id": "a1da9fcd"
      },
      "outputs": [],
      "source": []
    }
  ],
  "metadata": {
    "kernelspec": {
      "display_name": "Python 3",
      "language": "python",
      "name": "python3"
    },
    "language_info": {
      "codemirror_mode": {
        "name": "ipython",
        "version": 3
      },
      "file_extension": ".py",
      "mimetype": "text/x-python",
      "name": "python",
      "nbconvert_exporter": "python",
      "pygments_lexer": "ipython3",
      "version": "3.8.8"
    },
    "colab": {
      "provenance": []
    }
  },
  "nbformat": 4,
  "nbformat_minor": 5
}