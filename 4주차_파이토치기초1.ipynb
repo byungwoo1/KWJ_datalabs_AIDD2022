{
  "cells": [
    {
      "cell_type": "markdown",
      "id": "858e9a8a",
      "metadata": {
        "id": "858e9a8a"
      },
      "source": [
        "# Pytorch를 사용한 딥 러닝\n",
        "\n",
        "## 이 노트북에서 다룰 내용\n",
        "1. PyTorch 텐서 소개\n",
        "2. 텐서 연산 및 기울기\n",
        "3. PyTorch와 Numpy 간의 상호 운용성\n",
        "4. PyTorch 문서 사이트 사용 방법\n",
        "\n",
        "시작하기 전에 필요한 라이브러리를 설치해야 한다.\n",
        "\n",
        "PyTorch의 설치는 운영 체제/클라우드 환경에 따라 다를 수 있다.\n",
        "\n",
        "자세한 설치 방법은 https://pytorch.org에서 찾을 수 있다."
      ]
    },
    {
      "cell_type": "code",
      "execution_count": null,
      "id": "7df03c56",
      "metadata": {
        "id": "7df03c56"
      },
      "outputs": [],
      "source": [
        "# Uncomment and run the appropriate command for your operating system, if required\n",
        "\n",
        "# Linux / Binder\n",
        "# !pip install numpy torch==1.7.0+cpu torchvision==0.8.1+cpu torchaudio==0.7.0 -f https://download.pytorch.org/whl/torch_stable.html\n",
        "\n",
        "# Windows\n",
        "# !pip install numpy torch==1.7.0+cpu torchvision==0.8.1+cpu torchaudio==0.7.0 -f https://download.pytorch.org/whl/torch_stable.html\n",
        "\n",
        "# MacOS\n",
        "# !pip install numpy torch torchvision torchaudio\n"
      ]
    },
    {
      "cell_type": "markdown",
      "id": "88a00e9f",
      "metadata": {
        "id": "88a00e9f"
      },
      "source": [
        "설치가 되었다면 아래의 코드를 수행할 수 있다."
      ]
    },
    {
      "cell_type": "code",
      "execution_count": null,
      "id": "66c41f2f",
      "metadata": {
        "id": "66c41f2f"
      },
      "outputs": [],
      "source": [
        "import torch"
      ]
    },
    {
      "cell_type": "markdown",
      "id": "8890a0c4",
      "metadata": {
        "id": "8890a0c4"
      },
      "source": [
        "## 텐서\n",
        "\n",
        "PyTorch의 핵심은 텐서를 처리하기 위한 라이브러리다.\n",
        "\n",
        "텐서는 숫자, 벡터, 행렬 또는 n차원 배열이다.\n",
        "\n",
        "단일 숫자로 텐서를 생성해 보겠다."
      ]
    },
    {
      "cell_type": "code",
      "execution_count": null,
      "id": "48226904",
      "metadata": {
        "id": "48226904",
        "outputId": "24358cae-691e-4a32-bec3-b58210d90226"
      },
      "outputs": [
        {
          "data": {
            "text/plain": [
              "tensor(4.)"
            ]
          },
          "execution_count": 3,
          "metadata": {},
          "output_type": "execute_result"
        }
      ],
      "source": [
        "# Number\n",
        "t1 = torch.tensor(4.)\n",
        "t1"
      ]
    },
    {
      "cell_type": "markdown",
      "id": "c4e3a5e5",
      "metadata": {
        "id": "c4e3a5e5"
      },
      "source": [
        "`4.`는 `4.0`의 줄임말이다. 부동 소수점 숫자를 생성하려는 Python(및 PyTorch)을 나타내는 데 사용된다. 텐서의 `dtype` 속성을 확인하여 이를 확인할 수 있다."
      ]
    },
    {
      "cell_type": "code",
      "execution_count": null,
      "id": "d1145ee7",
      "metadata": {
        "id": "d1145ee7",
        "outputId": "6aa1abcf-c57d-4ee4-df89-3dd0090bf8ac"
      },
      "outputs": [
        {
          "data": {
            "text/plain": [
              "torch.float32"
            ]
          },
          "execution_count": 4,
          "metadata": {},
          "output_type": "execute_result"
        }
      ],
      "source": [
        "t1.dtype"
      ]
    },
    {
      "cell_type": "markdown",
      "id": "5deecb73",
      "metadata": {
        "id": "5deecb73"
      },
      "source": [
        "더 복잡한 텐서를 만들어 보자."
      ]
    },
    {
      "cell_type": "code",
      "execution_count": null,
      "id": "9d7ef773",
      "metadata": {
        "id": "9d7ef773",
        "outputId": "cbb683b4-cfc7-40a9-8ccb-b4d5abbe7ad1"
      },
      "outputs": [
        {
          "data": {
            "text/plain": [
              "tensor([1., 2., 3., 4.])"
            ]
          },
          "execution_count": 5,
          "metadata": {},
          "output_type": "execute_result"
        }
      ],
      "source": [
        "# Vector\n",
        "t2 = torch.tensor([1., 2, 3, 4])\n",
        "t2"
      ]
    },
    {
      "cell_type": "code",
      "execution_count": null,
      "id": "21a005e8",
      "metadata": {
        "id": "21a005e8",
        "outputId": "03ee29a7-bbc6-4731-e72c-cdb41628b68c"
      },
      "outputs": [
        {
          "data": {
            "text/plain": [
              "tensor([[ 5.,  6.],\n",
              "        [ 7.,  8.],\n",
              "        [ 9., 10.]])"
            ]
          },
          "execution_count": 6,
          "metadata": {},
          "output_type": "execute_result"
        }
      ],
      "source": [
        "# Matrix\n",
        "t3 = torch.tensor([[5., 6], \n",
        "                   [7, 8], \n",
        "                   [9, 10]])\n",
        "t3"
      ]
    },
    {
      "cell_type": "code",
      "execution_count": null,
      "id": "1acc1ff3",
      "metadata": {
        "id": "1acc1ff3",
        "outputId": "e9985d97-6e73-4ed5-e961-7e1c798bc9c4"
      },
      "outputs": [
        {
          "data": {
            "text/plain": [
              "tensor([[[11., 12., 13.],\n",
              "         [13., 14., 15.]],\n",
              "\n",
              "        [[15., 16., 17.],\n",
              "         [17., 18., 19.]]])"
            ]
          },
          "execution_count": 7,
          "metadata": {},
          "output_type": "execute_result"
        }
      ],
      "source": [
        "# 3-dimensional array\n",
        "t4 = torch.tensor([\n",
        "    [[11, 12, 13], \n",
        "     [13, 14, 15]], \n",
        "    [[15, 16, 17], \n",
        "     [17, 18, 19.]]])\n",
        "t4"
      ]
    },
    {
      "cell_type": "markdown",
      "id": "71273e4b",
      "metadata": {
        "id": "71273e4b"
      },
      "source": [
        "텐서는 각 차원을 따라 여러 차원과 다른 길이를 가질 수 있다.\n",
        "\n",
        "텐서의 `.shape` 속성을 사용하여 각 차원의 길이를 검사할 수 있다."
      ]
    },
    {
      "cell_type": "code",
      "execution_count": null,
      "id": "cc94f1e0",
      "metadata": {
        "id": "cc94f1e0",
        "outputId": "7bd950f1-95f6-40ea-d5a3-c48fa435cdaa"
      },
      "outputs": [
        {
          "name": "stdout",
          "output_type": "stream",
          "text": [
            "tensor(4.)\n"
          ]
        },
        {
          "data": {
            "text/plain": [
              "torch.Size([])"
            ]
          },
          "execution_count": 8,
          "metadata": {},
          "output_type": "execute_result"
        }
      ],
      "source": [
        "print(t1)\n",
        "t1.shape"
      ]
    },
    {
      "cell_type": "code",
      "execution_count": null,
      "id": "aa540e68",
      "metadata": {
        "id": "aa540e68",
        "outputId": "240adacd-b867-42e1-a7ef-f819cd7d8e90"
      },
      "outputs": [
        {
          "name": "stdout",
          "output_type": "stream",
          "text": [
            "tensor([1., 2., 3., 4.])\n"
          ]
        },
        {
          "data": {
            "text/plain": [
              "torch.Size([4])"
            ]
          },
          "execution_count": 9,
          "metadata": {},
          "output_type": "execute_result"
        }
      ],
      "source": [
        "print(t2)\n",
        "t2.shape"
      ]
    },
    {
      "cell_type": "code",
      "execution_count": null,
      "id": "cfc55bb3",
      "metadata": {
        "id": "cfc55bb3",
        "outputId": "7bd27175-1ab5-49ea-9dfd-b9c947389581"
      },
      "outputs": [
        {
          "name": "stdout",
          "output_type": "stream",
          "text": [
            "tensor([[ 5.,  6.],\n",
            "        [ 7.,  8.],\n",
            "        [ 9., 10.]])\n"
          ]
        },
        {
          "data": {
            "text/plain": [
              "torch.Size([3, 2])"
            ]
          },
          "execution_count": 10,
          "metadata": {},
          "output_type": "execute_result"
        }
      ],
      "source": [
        "print(t3)\n",
        "t3.shape"
      ]
    },
    {
      "cell_type": "code",
      "execution_count": null,
      "id": "a04dbae6",
      "metadata": {
        "id": "a04dbae6",
        "outputId": "9615beba-1959-49e2-aa7d-7a48cbc3638a"
      },
      "outputs": [
        {
          "name": "stdout",
          "output_type": "stream",
          "text": [
            "tensor([[[11., 12., 13.],\n",
            "         [13., 14., 15.]],\n",
            "\n",
            "        [[15., 16., 17.],\n",
            "         [17., 18., 19.]]])\n"
          ]
        },
        {
          "data": {
            "text/plain": [
              "torch.Size([2, 2, 3])"
            ]
          },
          "execution_count": 11,
          "metadata": {},
          "output_type": "execute_result"
        }
      ],
      "source": [
        "print(t4)\n",
        "t4.shape"
      ]
    },
    {
      "cell_type": "markdown",
      "id": "7aabf23b",
      "metadata": {
        "id": "7aabf23b"
      },
      "source": [
        "부적절한 모양으로 텐서를 생성하는 것은 불가능하다."
      ]
    },
    {
      "cell_type": "code",
      "execution_count": null,
      "id": "b4d61752",
      "metadata": {
        "id": "b4d61752",
        "outputId": "458c50b6-187e-4719-a8cb-3201714ab068"
      },
      "outputs": [
        {
          "ename": "ValueError",
          "evalue": "expected sequence of length 3 at dim 1 (got 2)",
          "output_type": "error",
          "traceback": [
            "\u001b[0;31m---------------------------------------------------------------------------\u001b[0m",
            "\u001b[0;31mValueError\u001b[0m                                Traceback (most recent call last)",
            "\u001b[0;32m<ipython-input-12-83912cf67c5e>\u001b[0m in \u001b[0;36m<module>\u001b[0;34m\u001b[0m\n\u001b[1;32m      1\u001b[0m \u001b[0;31m# Matrix\u001b[0m\u001b[0;34m\u001b[0m\u001b[0;34m\u001b[0m\u001b[0;34m\u001b[0m\u001b[0m\n\u001b[0;32m----> 2\u001b[0;31m t5 = torch.tensor([[5., 6, 11], \n\u001b[0m\u001b[1;32m      3\u001b[0m                    \u001b[0;34m[\u001b[0m\u001b[0;36m7\u001b[0m\u001b[0;34m,\u001b[0m \u001b[0;36m8\u001b[0m\u001b[0;34m]\u001b[0m\u001b[0;34m,\u001b[0m\u001b[0;34m\u001b[0m\u001b[0;34m\u001b[0m\u001b[0m\n\u001b[1;32m      4\u001b[0m                    [9, 10]])\n\u001b[1;32m      5\u001b[0m \u001b[0mt5\u001b[0m\u001b[0;34m\u001b[0m\u001b[0;34m\u001b[0m\u001b[0m\n",
            "\u001b[0;31mValueError\u001b[0m: expected sequence of length 3 at dim 1 (got 2)"
          ]
        }
      ],
      "source": [
        "# Matrix\n",
        "t5 = torch.tensor([[5., 6, 11], \n",
        "                   [7, 8], \n",
        "                   [9, 10]])\n",
        "t5"
      ]
    },
    {
      "cell_type": "markdown",
      "id": "3fa741b1",
      "metadata": {
        "id": "3fa741b1"
      },
      "source": [
        "## 텐서 연산 및 그라디언트\n",
        "\n",
        "텐서를 일반적인 산술 연산과 결합할 수 있다."
      ]
    },
    {
      "cell_type": "code",
      "execution_count": null,
      "id": "2a53c125",
      "metadata": {
        "id": "2a53c125",
        "outputId": "5288d10d-a45a-4b13-f377-7ffe6f98db6a"
      },
      "outputs": [
        {
          "data": {
            "text/plain": [
              "(tensor(3.), tensor(4., requires_grad=True), tensor(5., requires_grad=True))"
            ]
          },
          "execution_count": 20,
          "metadata": {},
          "output_type": "execute_result"
        }
      ],
      "source": [
        "# Create tensors.\n",
        "x = torch.tensor(3.)\n",
        "w = torch.tensor(4., requires_grad=True)\n",
        "b = torch.tensor(5., requires_grad=True)\n",
        "x, w, b"
      ]
    },
    {
      "cell_type": "markdown",
      "id": "22dc07e3",
      "metadata": {
        "id": "22dc07e3"
      },
      "source": [
        "3개의 텐서를 생성했다: `x`, `w`, `b`, 모두 숫자이다.\n",
        "\n",
        "`w` 및 `b`에는 `True`로 설정된 추가 매개변수 `requires_grad`가 있다.\n",
        "\n",
        "  우리는 잠시 후에 그것이 무엇을 하는지 볼 것이다.\n",
        "\n",
        "이 텐서를 결합하여 새로운 텐서 `y`를 만들어 봅시다."
      ]
    },
    {
      "cell_type": "code",
      "execution_count": null,
      "id": "85c6ecbc",
      "metadata": {
        "id": "85c6ecbc",
        "outputId": "f5303bac-fc89-452d-9815-b456541db67a"
      },
      "outputs": [
        {
          "data": {
            "text/plain": [
              "tensor(17., grad_fn=<AddBackward0>)"
            ]
          },
          "execution_count": 21,
          "metadata": {},
          "output_type": "execute_result"
        }
      ],
      "source": [
        "# Arithmetic operations\n",
        "y = w * x + b\n",
        "y"
      ]
    },
    {
      "cell_type": "markdown",
      "id": "339ffd5e",
      "metadata": {
        "id": "339ffd5e"
      },
      "source": [
        "예상대로 `y` 값이 `3 * 4 + 5 = 17`인 텐서다.\n",
        "\n",
        "PyTorch를 독특하게 만드는 것은 `y` w.r.t의 도함수를 자동으로 계산할 수 있다는 것이다. \n",
        "`requires_grad`가 `True`로 설정되어 있고, w와 b를 갖고 있다.\n",
        "\n",
        "PyTorch의 이 기능을 _autograd_(자동 그라디언트)라고 한다.\n",
        "\n",
        "도함수를 계산하기 위해 결과 `y`에 대해 `.backward` 메소드를 호출할 수 있다."
      ]
    },
    {
      "cell_type": "code",
      "execution_count": null,
      "id": "4e0afdd6",
      "metadata": {
        "id": "4e0afdd6"
      },
      "outputs": [],
      "source": [
        "# Compute derivatives\n",
        "y.backward()"
      ]
    },
    {
      "cell_type": "markdown",
      "id": "64ab13e6",
      "metadata": {
        "id": "64ab13e6"
      },
      "source": [
        "입력 텐서에 대한 `y`의 도함수는 각 텐서의 `.grad` 속성에 저장된다."
      ]
    },
    {
      "cell_type": "code",
      "execution_count": null,
      "id": "64c7c9a2",
      "metadata": {
        "id": "64c7c9a2",
        "outputId": "c33219e7-1461-496e-e507-71a61bd4a0eb"
      },
      "outputs": [
        {
          "name": "stdout",
          "output_type": "stream",
          "text": [
            "dy/dx: None\n",
            "dy/dw: tensor(3.)\n",
            "dy/db: tensor(1.)\n"
          ]
        }
      ],
      "source": [
        "# Display gradients\n",
        "print('dy/dx:', x.grad)\n",
        "print('dy/dw:', w.grad)\n",
        "print('dy/db:', b.grad)"
      ]
    },
    {
      "cell_type": "markdown",
      "id": "dd7b1acb",
      "metadata": {
        "id": "dd7b1acb"
      },
      "source": [
        "`dy/dw`는 `x`와 같은 값, 즉 `3`을 가지며 `dy/db`는 `1`의 값을 갖는다.\n",
        "\n",
        "`x`에는 `requires_grad`가 `True`로 설정되어 있지 않기 때문에 `x.grad`는 `None`이다.\n",
        "\n",
        "`w.grad`의 \"grad\"는 _gradient_의 줄임말로 도함수의 또 다른 용어이다.\n",
        "\n",
        "_gradient_라는 용어는 벡터와 행렬을 다룰 때 주로 사용된다."
      ]
    },
    {
      "cell_type": "markdown",
      "id": "cfe7585d",
      "metadata": {
        "id": "cfe7585d"
      },
      "source": [
        "## 텐서 함수\n",
        "\n",
        "산술 연산 외에도 `torch` 모듈에는 텐서를 생성하고 조작하기 위한 많은 기능이 포함되어 있다. \n",
        "\n",
        "몇 가지 예를 살펴보겠다."
      ]
    },
    {
      "cell_type": "code",
      "execution_count": null,
      "id": "fa6964e1",
      "metadata": {
        "id": "fa6964e1",
        "outputId": "e34bec4f-a4c4-481c-a3ee-cb92205d4c46"
      },
      "outputs": [
        {
          "data": {
            "text/plain": [
              "tensor([[42, 42],\n",
              "        [42, 42],\n",
              "        [42, 42]])"
            ]
          },
          "execution_count": 24,
          "metadata": {},
          "output_type": "execute_result"
        }
      ],
      "source": [
        "# Create a tensor with a fixed value for every element\n",
        "t6 = torch.full((3, 2), 42)\n",
        "t6"
      ]
    },
    {
      "cell_type": "code",
      "execution_count": null,
      "id": "476cbc99",
      "metadata": {
        "id": "476cbc99",
        "outputId": "67679d92-23ac-4eda-f48a-a4191bfe5033"
      },
      "outputs": [
        {
          "data": {
            "text/plain": [
              "tensor([[ 5.,  6.],\n",
              "        [ 7.,  8.],\n",
              "        [ 9., 10.],\n",
              "        [42., 42.],\n",
              "        [42., 42.],\n",
              "        [42., 42.]])"
            ]
          },
          "execution_count": 25,
          "metadata": {},
          "output_type": "execute_result"
        }
      ],
      "source": [
        "# Concatenate two tensors with compatible shapes\n",
        "t7 = torch.cat((t3, t6))\n",
        "t7"
      ]
    },
    {
      "cell_type": "code",
      "execution_count": null,
      "id": "dce4849e",
      "metadata": {
        "id": "dce4849e",
        "outputId": "81e25c4b-c8ee-4659-f3e2-4d1e1e7ad642"
      },
      "outputs": [
        {
          "data": {
            "text/plain": [
              "tensor([[-0.9589, -0.2794],\n",
              "        [ 0.6570,  0.9894],\n",
              "        [ 0.4121, -0.5440],\n",
              "        [-0.9165, -0.9165],\n",
              "        [-0.9165, -0.9165],\n",
              "        [-0.9165, -0.9165]])"
            ]
          },
          "execution_count": 26,
          "metadata": {},
          "output_type": "execute_result"
        }
      ],
      "source": [
        "# Compute the sin of each element\n",
        "t8 = torch.sin(t7)\n",
        "t8"
      ]
    },
    {
      "cell_type": "code",
      "execution_count": null,
      "id": "c44fa902",
      "metadata": {
        "id": "c44fa902",
        "outputId": "15c78ce4-5503-4c22-fa6f-36ab8fcdd17b"
      },
      "outputs": [
        {
          "data": {
            "text/plain": [
              "tensor([[[-0.9589, -0.2794],\n",
              "         [ 0.6570,  0.9894]],\n",
              "\n",
              "        [[ 0.4121, -0.5440],\n",
              "         [-0.9165, -0.9165]],\n",
              "\n",
              "        [[-0.9165, -0.9165],\n",
              "         [-0.9165, -0.9165]]])"
            ]
          },
          "execution_count": 27,
          "metadata": {},
          "output_type": "execute_result"
        }
      ],
      "source": [
        "# Change the shape of a tensor\n",
        "t9 = t8.reshape(3, 2, 2)\n",
        "t9"
      ]
    },
    {
      "cell_type": "markdown",
      "id": "fb1161fa",
      "metadata": {
        "id": "fb1161fa"
      },
      "source": [
        "텐서 작업에 대한 자세한 내용은 https://pytorch.org/docs/stable/torch.html에서 확인할 수 있다.\n"
      ]
    },
    {
      "cell_type": "markdown",
      "id": "a4a3b8bd",
      "metadata": {
        "id": "a4a3b8bd"
      },
      "source": [
        "## Numpy와 같이 사용하기\n",
        "\n",
        "[Numpy](http://www.numpy.org/)는 Python에서 수학 및 과학 컴퓨팅에 사용되는 인기 있는 오픈 소스 라이브러리이다.\n",
        "\n",
        "대규모 다차원 어레이에서 효율적인 작업을 가능하게 하며 다음을 포함하여 지원 라이브러리들을 가지고 있음\n",
        "\n",
        "* 파일 I/O 및 데이터 분석을 위한 [Pandas](https://pandas.pydata.org/)\n",
        "* 플로팅 및 시각화를 위한 [Matplotlib](https://matplotlib.org/)\n",
        "* 이미지 및 비디오 처리를 위한 [OpenCV](https://opencv.org/)\n",
        "\n",
        "Python의 Numpy 및 기타 데이터 과학 라이브러리에 대해 자세히 알아보려면 아래의 튜토리얼을 참고하라.\n",
        "\n",
        "https://jovian.ai/aakashns/python-numerical-computing-with-numpy."
      ]
    },
    {
      "cell_type": "code",
      "execution_count": null,
      "id": "2dfed242",
      "metadata": {
        "id": "2dfed242",
        "outputId": "bca7b128-84b6-4c3e-9768-15248003f950"
      },
      "outputs": [
        {
          "data": {
            "text/plain": [
              "array([[1., 2.],\n",
              "       [3., 4.]])"
            ]
          },
          "execution_count": 28,
          "metadata": {},
          "output_type": "execute_result"
        }
      ],
      "source": [
        "import numpy as np\n",
        "\n",
        "x = np.array([[1, 2], [3, 4.]])\n",
        "x"
      ]
    },
    {
      "cell_type": "markdown",
      "id": "08846179",
      "metadata": {
        "id": "08846179"
      },
      "source": [
        "Numpy 배열을 `torch.from_numpy`를 사용하여 PyTorch 텐서로 변환할 수 있다."
      ]
    },
    {
      "cell_type": "code",
      "execution_count": null,
      "id": "711180b1",
      "metadata": {
        "id": "711180b1",
        "outputId": "678bf2af-cb32-4f53-b269-fc2deec52db6"
      },
      "outputs": [
        {
          "data": {
            "text/plain": [
              "tensor([[1., 2.],\n",
              "        [3., 4.]], dtype=torch.float64)"
            ]
          },
          "execution_count": 29,
          "metadata": {},
          "output_type": "execute_result"
        }
      ],
      "source": [
        "# Convert the numpy array to a torch tensor.\n",
        "y = torch.from_numpy(x)\n",
        "y"
      ]
    },
    {
      "cell_type": "code",
      "execution_count": null,
      "id": "496eff45",
      "metadata": {
        "id": "496eff45",
        "outputId": "1cddcf07-6183-4814-a708-4b86f12da9ab"
      },
      "outputs": [
        {
          "data": {
            "text/plain": [
              "(dtype('float64'), torch.float64)"
            ]
          },
          "execution_count": 30,
          "metadata": {},
          "output_type": "execute_result"
        }
      ],
      "source": [
        "x.dtype, y.dtype"
      ]
    },
    {
      "cell_type": "markdown",
      "id": "baeac720",
      "metadata": {
        "id": "baeac720"
      },
      "source": [
        "텐서의 `.numpy` 메서드를 사용하여 PyTorch 텐서를 Numpy 배열로 변환할 수 있다."
      ]
    },
    {
      "cell_type": "code",
      "execution_count": null,
      "id": "21a84638",
      "metadata": {
        "id": "21a84638",
        "outputId": "5a97dd9e-06cf-4035-9335-256fc4c75293"
      },
      "outputs": [
        {
          "data": {
            "text/plain": [
              "array([[1., 2.],\n",
              "       [3., 4.]])"
            ]
          },
          "execution_count": 31,
          "metadata": {},
          "output_type": "execute_result"
        }
      ],
      "source": [
        "# Convert a torch tensor to a numpy array\n",
        "z = y.numpy()\n",
        "z"
      ]
    },
    {
      "cell_type": "markdown",
      "id": "7bcd5caf",
      "metadata": {
        "id": "7bcd5caf"
      },
      "source": [
        "PyTorch와 Numpy 간의 상호 운용성은 작업할 대부분의 데이터 세트가 Numpy 배열로 읽고 사전 처리될 가능성이 높기 때문에 필수적이다.\n",
        "\n",
        "Numpy는 이미 다차원 숫자 데이터 작업을 위한 데이터 구조와 유틸리티를 제공하기 때문에 PyTorch와 같은 라이브러리가 필요한 이유가 궁금할 것이다. 두 가지의 주요한 이유가 있음\n",
        "\n",
        "1. **Autograd**: 텐서 연산의 기울기를 자동으로 계산하는 기능은 딥 러닝 모델을 훈련하는 데 필수\n",
        "\n",
        "2. **GPU 지원**: 대규모 데이터 세트 및 대규모 모델로 작업하는 동안 PyTorch 텐서 작업은 GPU(그래픽 처리 장치)를 사용하여 효율적으로 수행할 수 있음\n",
        "\n",
        "일반적으로 몇 시간이 걸릴 수 있는 계산을 GPU를 사용하면 몇 분 안에 완료할 수 있다."
      ]
    },
    {
      "cell_type": "code",
      "execution_count": null,
      "id": "6bcd0aa7",
      "metadata": {
        "id": "6bcd0aa7"
      },
      "outputs": [],
      "source": []
    }
  ],
  "metadata": {
    "kernelspec": {
      "display_name": "Python 3",
      "language": "python",
      "name": "python3"
    },
    "language_info": {
      "codemirror_mode": {
        "name": "ipython",
        "version": 3
      },
      "file_extension": ".py",
      "mimetype": "text/x-python",
      "name": "python",
      "nbconvert_exporter": "python",
      "pygments_lexer": "ipython3",
      "version": "3.8.8"
    },
    "colab": {
      "provenance": []
    }
  },
  "nbformat": 4,
  "nbformat_minor": 5
}